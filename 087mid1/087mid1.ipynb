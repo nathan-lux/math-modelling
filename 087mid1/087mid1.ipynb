{
 "cells": [
  {
   "cell_type": "markdown",
   "metadata": {},
   "source": [
    "# Midterm 1\n",
    "This is the first midterm project for Math087. The project is on network flows.\n",
    "<br>\n",
    "**The problem**:\n",
    "<br><br>\n",
    "The basic problem is to determine an optimum shipping plan that minimizes the total cost of shipping\n",
    "while meeting all customer demands with available supplies. Your task will be to formulate a linear\n",
    "program to solve this problem – and some variations of this problem –, and to enter this linear\n",
    "program and solve it using python/scipy."
   ]
  },
  {
   "cell_type": "markdown",
   "metadata": {},
   "source": [
    "### Part 1.1"
   ]
  },
  {
   "cell_type": "code",
   "execution_count": 2,
   "metadata": {},
   "outputs": [
    {
     "name": "stdout",
     "output_type": "stream",
     "text": [
      "     con: array([ 1.28965876e-08, -8.51174860e-07, -8.51174718e-07, -2.99630733e-06,\n",
      "        6.44829385e-07,  1.29395750e-06,  1.06611813e-06,  8.51175031e-07,\n",
      "        8.51175002e-07, -2.14943126e-08])\n",
      "     fun: 5299.999990954937\n",
      " message: 'Optimization terminated successfully.'\n",
      "     nit: 9\n",
      "   slack: array([1.10000000e+03, 1.10000000e+03, 1.10000000e+03, 2.88762473e-06,\n",
      "       1.99999998e+02, 2.00000000e+02, 2.00000000e+02, 1.53279876e-06,\n",
      "       2.00000000e+02, 9.99999987e+01, 1.33960307e-06, 1.29700823e-06,\n",
      "       1.62463766e-06, 1.99999998e+02, 1.10000000e+03, 2.00000000e+02,\n",
      "       2.00000000e+02, 1.50000002e+02, 1.50000000e+02, 2.00000000e+02,\n",
      "       1.10000000e+03, 2.00000000e+02, 1.10000000e+03, 1.10000000e+03,\n",
      "       1.10000000e+03])\n",
      "  status: 0\n",
      " success: True\n",
      "       x: array([3.21894639e-09, 3.22255605e-09, 6.45508514e-09, 1.99999997e+02,\n",
      "       1.76154918e-06, 2.78119646e-07, 4.48013293e-07, 1.99999998e+02,\n",
      "       2.36833321e-07, 1.00000001e+02, 1.99999999e+02, 1.99999999e+02,\n",
      "       1.99999998e+02, 1.63909883e-06, 4.31792558e-09, 3.08513137e-07,\n",
      "       3.08512708e-07, 4.99999981e+01, 5.00000002e+01, 4.69193788e-07,\n",
      "       4.40071331e-09, 2.13315141e-07, 4.21658718e-09, 4.24386080e-09,\n",
      "       4.31522578e-09])\n"
     ]
    }
   ],
   "source": [
    "import numpy as np\n",
    "from scipy.optimize import linprog\n",
    "A = np.array([ [-1, -1, -1, 0, 0, 0, 0, 0, 0, 0, 0, 0, 0, 0, 0, 0, 0, 0, 0, 0, 0, 0, 0, 0, 0],\n",
    "               [ 1,  0, 0,-1, -1, -1, 0, 0, 0, 0, 0, 0, 0, 0, 0, 0, 0, 0, 0, 0, 0, 0, 0, 0, 0],\n",
    "               [0, 1, 0, 0, 0, 0, -1, -1, -1, 0, 0, 0, 0, 0, 0, 0, 0, 0, 0, 0, 0, 0, 0, 0, 0],\n",
    "               [0, 0, 1, 0, 0, 0, 0, 0, 0, -1, -1, -1, -1, 0, 0, 0, 0, 0, 0, 0, 0, 0, 0, 0, 0],\n",
    "               [0, 0, 0, 0, 1, 0, 1, 0, 0, 1, 0, 0, 0, -1, -1, -1, -1, 1, 0, 0, 0, 0, 0, 0, 0],\n",
    "               [0, 0, 0, 0, 0, 1, 0, 1, 0, 0, 1, 0, 0, 0, 0, 0, 1, -1, -1, -1, -1, -1, 0, 0, 0],\n",
    "               [0, 0, 0, 1, 0, 0, 0, 0, 0, 0, 0, 0, 0, 1, 0, 0, 0, 0, 1, 0, 0, 0, -1, 0, 0],\n",
    "               [0, 0, 0, 0, 0, 0, 0, 0, 0, 0, 0, 0, 1, 0, 0, 0, 1, 0, 0, 1, 0, 0, 0, -1, 0],\n",
    "               [0, 0, 0, 0, 0, 0, 0, 0, 1, 0, 0, 1, 0, 0, 0, 0, 0, 0, 0, 0, 0, 1, 0, 0, -1],\n",
    "               [0, 0, 0, 0, 0, 0, 0, 0, 0, 0, 0, 0, 0, 0, 1, 0, 0, 0, 0, 0, 1, 0, 1, 1, 1]])\n",
    "\n",
    "b = np.array([0, -200, -200, -700, 150, 300, 250, 200, 200, 0])\n",
    "c = np.array([0, 0, 0, 7, 4, 6, 5, 2, 7, 7, 3, 3, 6, 5, 0, 4, 2,2 ,6 ,4 ,0 ,5 ,0 ,0, 0])\n",
    "\n",
    "Aub = np.identity(25)\n",
    "bub = np.array([1100, 1100, 1100, 200, 200, 200, 200, 200, 200, 200, 200, 200, 200, 200, 1100, 200, 200, 200, 200, 200, 1100, 200, 1100, 1100, 1100])\n",
    "\n",
    "res = linprog(c, A_eq = A, b_eq = b, A_ub = Aub, b_ub = bub)\n",
    "print(res)"
   ]
  },
  {
   "cell_type": "markdown",
   "metadata": {},
   "source": [
    "This is hard to look at so we can process it in the following way."
   ]
  },
  {
   "cell_type": "code",
   "execution_count": 3,
   "metadata": {},
   "outputs": [
    {
     "name": "stdout",
     "output_type": "stream",
     "text": [
      "total costs: 5300\n",
      "e_0  \t S/TB \t----> 0\n",
      "e_1  \t S/EP \t----> 0\n",
      "e_2  \t S/SF \t----> 0\n",
      "e_3  \t TB/NY \t----> 200\n",
      "e_4  \t TB/AT \t----> 0\n",
      "e_5  \t TB/HN \t----> 0\n",
      "e_6  \t EP/AT \t----> 0\n",
      "e_7  \t EP/HN \t----> 200\n",
      "e_8  \t EP/LA \t----> 0\n",
      "e_9  \t SF/AT \t----> 100\n",
      "e_10  \t SF/HN \t----> 200\n",
      "e_11  \t SF/LA \t----> 200\n",
      "e_12  \t SF/CH \t----> 200\n",
      "e_13  \t AT/NY \t----> 0\n",
      "e_14  \t AT/T \t----> 0\n",
      "e_15  \t AT/CH \t----> 0\n",
      "e_16  \t AT/HN \t----> 0\n",
      "e_17  \t HN/AT \t----> 50\n",
      "e_18  \t HN/NY \t----> 50\n",
      "e_19  \t HN/CH \t----> 0\n",
      "e_20  \t HN/T \t----> 0\n",
      "e_21  \t HN/LA \t----> 0\n",
      "e_22  \t NY/T \t----> 0\n",
      "e_23  \t CH/T \t----> 0\n",
      "e_24  \t LA/T \t----> 0\n"
     ]
    }
   ],
   "source": [
    "def print_routes(res):\n",
    "    cities = {0:\"S/TB\",\n",
    "            1:\"S/EP\",\n",
    "            2:\"S/SF\",\n",
    "            3:\"TB/NY\",\n",
    "            4:\"TB/AT\",\n",
    "            5:\"TB/HN\",\n",
    "            6:\"EP/AT\",\n",
    "            7:\"EP/HN\",\n",
    "            8:\"EP/LA\",\n",
    "            9:\"SF/AT\",\n",
    "            10:\"SF/HN\",\n",
    "            11:\"SF/LA\",\n",
    "            12:\"SF/CH\",\n",
    "            13:\"AT/NY\",\n",
    "            14:\"AT/T\",\n",
    "            15:\"AT/CH\",\n",
    "            16:\"AT/HN\",\n",
    "            17:\"HN/AT\",\n",
    "            18:\"HN/NY\",\n",
    "            19:\"HN/CH\",\n",
    "            20:\"HN/T\",\n",
    "            21:\"HN/LA\",\n",
    "            22:\"NY/T\",\n",
    "            23:\"CH/T\",\n",
    "            24:\"LA/T\"}\n",
    "            \n",
    "    copy = []\n",
    "    for i in range(len(res.x)):\n",
    "        if res.x[i] < 0.00001:\n",
    "            copy.append(0)\n",
    "        else:\n",
    "            copy.append(round(res.x[i])) \n",
    "            \n",
    "    for i in range(len(res.x)):\n",
    "        print(\"e_\" + str(i), \" \\t\", cities[i], \"\\t---->\", copy[i])\n",
    "\n",
    "\n",
    "\n",
    "print(\"total costs:\", round(res.fun))\n",
    "print_routes(res)"
   ]
  },
  {
   "cell_type": "markdown",
   "metadata": {},
   "source": [
    "### Problem 1.4"
   ]
  },
  {
   "cell_type": "markdown",
   "metadata": {},
   "source": [
    "Now we test the scenario in which LA double the shipping costs to their city.\n",
    "This means we just double the value of a few specific nodes in our c vector and\n",
    "rerun the linprog"
   ]
  },
  {
   "cell_type": "code",
   "execution_count": 4,
   "metadata": {},
   "outputs": [
    {
     "name": "stdout",
     "output_type": "stream",
     "text": [
      "fun:\n",
      " 5899.999997911287\n",
      "e_0  \t S/TB \t----> 0\n",
      "e_1  \t S/EP \t----> 0\n",
      "e_2  \t S/SF \t----> 0\n",
      "e_3  \t TB/NY \t----> 200\n",
      "e_4  \t TB/AT \t----> 0\n",
      "e_5  \t TB/HN \t----> 0\n",
      "e_6  \t EP/AT \t----> 0\n",
      "e_7  \t EP/HN \t----> 200\n",
      "e_8  \t EP/LA \t----> 0\n",
      "e_9  \t SF/AT \t----> 100\n",
      "e_10  \t SF/HN \t----> 200\n",
      "e_11  \t SF/LA \t----> 200\n",
      "e_12  \t SF/CH \t----> 200\n",
      "e_13  \t AT/NY \t----> 0\n",
      "e_14  \t AT/T \t----> 0\n",
      "e_15  \t AT/CH \t----> 0\n",
      "e_16  \t AT/HN \t----> 0\n",
      "e_17  \t HN/AT \t----> 50\n",
      "e_18  \t HN/NY \t----> 50\n",
      "e_19  \t HN/CH \t----> 0\n",
      "e_20  \t HN/T \t----> 0\n",
      "e_21  \t HN/LA \t----> 0\n",
      "e_22  \t NY/T \t----> 0\n",
      "e_23  \t CH/T \t----> 0\n",
      "e_24  \t LA/T \t----> 0\n"
     ]
    }
   ],
   "source": [
    "c_la = np.array([0, 0, 0, 7, 4, 6, 5, 2, 14, 7, 3, 6, 6, 5, 0, 4, 2, 2, 6, 4, 0, 10, 0, 0, 0])\n",
    "\n",
    "res_la = linprog(c_la, A_eq = A, b_eq = b, A_ub = Aub, b_ub = bub)\n",
    "print(\"fun:\\n\", res_la.fun)\n",
    "#print(\"x:\\n\", res_la.x)\n",
    "\n",
    "print_routes(res_la)"
   ]
  },
  {
   "cell_type": "markdown",
   "metadata": {},
   "source": [
    "We can see that in this case, the change has increased our shipping costs,\n",
    "obviously not ideal. Let's check the secondary scenario..."
   ]
  },
  {
   "cell_type": "code",
   "execution_count": 5,
   "metadata": {},
   "outputs": [
    {
     "name": "stdout",
     "output_type": "stream",
     "text": [
      "fun:\n",
      " 6049.9999911648265\n",
      "e_0  \t S/TB \t----> 0\n",
      "e_1  \t S/EP \t----> 0\n",
      "e_2  \t S/SF \t----> 0\n",
      "e_3  \t TB/NY \t----> 200\n",
      "e_4  \t TB/AT \t----> 0\n",
      "e_5  \t TB/HN \t----> 0\n",
      "e_6  \t EP/AT \t----> 0\n",
      "e_7  \t EP/HN \t----> 145\n",
      "e_8  \t EP/LA \t----> 55\n",
      "e_9  \t SF/AT \t----> 200\n",
      "e_10  \t SF/HN \t----> 200\n",
      "e_11  \t SF/LA \t----> 100\n",
      "e_12  \t SF/CH \t----> 200\n",
      "e_13  \t AT/NY \t----> 50\n",
      "e_14  \t AT/T \t----> 0\n",
      "e_15  \t AT/CH \t----> 0\n",
      "e_16  \t AT/HN \t----> 0\n",
      "e_17  \t HN/AT \t----> 0\n",
      "e_18  \t HN/NY \t----> 0\n",
      "e_19  \t HN/CH \t----> 0\n",
      "e_20  \t HN/T \t----> 0\n",
      "e_21  \t HN/LA \t----> 45\n",
      "e_22  \t NY/T \t----> 0\n",
      "e_23  \t CH/T \t----> 0\n",
      "e_24  \t LA/T \t----> 0\n"
     ]
    }
   ],
   "source": [
    "bub_la = np.array([1100, 1100, 1100, 200, 200, 200, 200, 200, 100, 200, 200, 100, 200, 200, 1100, 200, 200, 200, 200, 200, 1100, 100, 1100, 1100, 1100])\n",
    "\n",
    "\n",
    "res_la2 = linprog(c, A_eq = A, b_eq = b, A_ub = Aub, b_ub = bub_la)\n",
    "print(\"fun:\\n\", res_la2.fun)\n",
    "#print(\"x:\\n\", res_la.x)\n",
    "\n",
    "print_routes(res_la2)"
   ]
  },
  {
   "cell_type": "markdown",
   "metadata": {},
   "source": [
    "So we can see, right off the bat, cutting the supply routes to LA in half is\n",
    "more damaging in terms of the costs."
   ]
  },
  {
   "cell_type": "markdown",
   "metadata": {},
   "source": [
    "### Problem 1.5"
   ]
  },
  {
   "cell_type": "markdown",
   "metadata": {},
   "source": [
    "In this problem, we run the same scenarios as above for LA, now with Houston"
   ]
  },
  {
   "cell_type": "code",
   "execution_count": 6,
   "metadata": {},
   "outputs": [
    {
     "name": "stdout",
     "output_type": "stream",
     "text": [
      "fun:\n",
      " 6249.999918839532\n",
      "e_0  \t S/TB \t----> 0\n",
      "e_1  \t S/EP \t----> 0\n",
      "e_2  \t S/SF \t----> 0\n",
      "e_3  \t TB/NY \t----> 200\n",
      "e_4  \t TB/AT \t----> 0\n",
      "e_5  \t TB/HN \t----> 0\n",
      "e_6  \t EP/AT \t----> 74\n",
      "e_7  \t EP/HN \t----> 126\n",
      "e_8  \t EP/LA \t----> 0\n",
      "e_9  \t SF/AT \t----> 105\n",
      "e_10  \t SF/HN \t----> 195\n",
      "e_11  \t SF/LA \t----> 200\n",
      "e_12  \t SF/CH \t----> 200\n",
      "e_13  \t AT/NY \t----> 29\n",
      "e_14  \t AT/T \t----> 0\n",
      "e_15  \t AT/CH \t----> 0\n",
      "e_16  \t AT/HN \t----> 0\n",
      "e_17  \t HN/AT \t----> 0\n",
      "e_18  \t HN/NY \t----> 21\n",
      "e_19  \t HN/CH \t----> 0\n",
      "e_20  \t HN/T \t----> 0\n",
      "e_21  \t HN/LA \t----> 0\n",
      "e_22  \t NY/T \t----> 0\n",
      "e_23  \t CH/T \t----> 0\n",
      "e_24  \t LA/T \t----> 0\n"
     ]
    }
   ],
   "source": [
    "c_hn = np.array([0, 0, 0, 7, 4, 6*2, 5, 2*2, 7, 7, 3*2, 3, 6, 5, 0, 4, 2*2, 2 ,6 ,4 ,0 ,5 ,0 ,0, 0])\n",
    "\n",
    "res_hn = linprog(c_hn, A_eq = A, b_eq = b, A_ub = Aub, b_ub = bub)\n",
    "print(\"fun:\\n\", res_hn.fun)\n",
    "#print(\"x:\\n\", res_la.x)\n",
    "\n",
    "print_routes(res_hn)"
   ]
  },
  {
   "cell_type": "markdown",
   "metadata": {},
   "source": [
    "We can see already, this is more damaging than not having the LA routes, or\n",
    "rather, having their priced doubled. <br>\n",
    "Now we can check the alternate case, of cutting the incoming routes in half."
   ]
  },
  {
   "cell_type": "code",
   "execution_count": 7,
   "metadata": {},
   "outputs": [
    {
     "name": "stdout",
     "output_type": "stream",
     "text": [
      "fun:\n",
      " 6249.999809297354\n",
      "e_0  \t S/TB \t----> 0\n",
      "e_1  \t S/EP \t----> 0\n",
      "e_2  \t S/SF \t----> 0\n",
      "e_3  \t TB/NY \t----> 100\n",
      "e_4  \t TB/AT \t----> 0\n",
      "e_5  \t TB/HN \t----> 100\n",
      "e_6  \t EP/AT \t----> 100\n",
      "e_7  \t EP/HN \t----> 100\n",
      "e_8  \t EP/LA \t----> 0\n",
      "e_9  \t SF/AT \t----> 200\n",
      "e_10  \t SF/HN \t----> 100\n",
      "e_11  \t SF/LA \t----> 200\n",
      "e_12  \t SF/CH \t----> 200\n",
      "e_13  \t AT/NY \t----> 150\n",
      "e_14  \t AT/T \t----> 0\n",
      "e_15  \t AT/CH \t----> 0\n",
      "e_16  \t AT/HN \t----> 0\n",
      "e_17  \t HN/AT \t----> 0\n",
      "e_18  \t HN/NY \t----> 0\n",
      "e_19  \t HN/CH \t----> 0\n",
      "e_20  \t HN/T \t----> 0\n",
      "e_21  \t HN/LA \t----> 0\n",
      "e_22  \t NY/T \t----> 0\n",
      "e_23  \t CH/T \t----> 0\n",
      "e_24  \t LA/T \t----> 0\n"
     ]
    }
   ],
   "source": [
    "#c_hn2 = np.array([0, 0, 0, 7, 4, 6*2, 5, 2*2, 7, 7, 3*2, 3, 6, 5, 0, 4, 2*2, 2 ,6 ,4 ,0 ,5 ,0 ,0, 0])\n",
    "bub_hn = np.array([1100, 1100, 1100, 200, 200, 200*(.5), 200, 200*(.5), 200, 200, 200*(.5), 200, 200, 200, 1100, 200, 200*(.5), 200, 200, 200, 1100, 200, 1100, 1100, 1100])\n",
    "\n",
    "res_hn2 = linprog(c, A_eq = A, b_eq = b, A_ub = Aub, b_ub = bub_hn)\n",
    "print(\"fun:\\n\", res_hn2.fun)\n",
    "#print(\"x:\\n\", res_la.x)\n",
    "\n",
    "print_routes(res_hn2)"
   ]
  },
  {
   "cell_type": "markdown",
   "metadata": {},
   "source": [
    "Huh, a fascinating result. We see that there is actually no change in the impact\n",
    "if we go from the 1/2 supply lines to the twice the shipping cost. Neat?"
   ]
  },
  {
   "cell_type": "markdown",
   "metadata": {},
   "source": [
    "### Problem 1.6"
   ]
  },
  {
   "cell_type": "code",
   "execution_count": 24,
   "metadata": {},
   "outputs": [
    {
     "name": "stdout",
     "output_type": "stream",
     "text": [
      "fun:\n",
      " -18249.999931370083\n",
      "e_0  \t S/TB \t----> 600\n",
      "e_1  \t S/EP \t----> 100\n",
      "e_2  \t S/SF \t----> 400\n",
      "e_3  \t TB/NY \t----> 200\n",
      "e_4  \t TB/AT \t----> 200\n",
      "e_5  \t TB/HN \t----> 200\n",
      "e_6  \t EP/AT \t----> 100\n",
      "e_7  \t EP/HN \t----> 0\n",
      "e_8  \t EP/LA \t----> 0\n",
      "e_9  \t SF/AT \t----> 200\n",
      "e_10  \t SF/HN \t----> 200\n",
      "e_11  \t SF/LA \t----> 0\n",
      "e_12  \t SF/CH \t----> 0\n",
      "e_13  \t AT/NY \t----> 50\n",
      "e_14  \t AT/T \t----> 0\n",
      "e_15  \t AT/CH \t----> 200\n",
      "e_16  \t AT/HN \t----> 200\n",
      "e_17  \t HN/AT \t----> 100\n",
      "e_18  \t HN/NY \t----> 0\n",
      "e_19  \t HN/CH \t----> 0\n",
      "e_20  \t HN/T \t----> 0\n",
      "e_21  \t HN/LA \t----> 200\n",
      "e_22  \t NY/T \t----> 0\n",
      "e_23  \t CH/T \t----> 0\n",
      "e_24  \t LA/T \t----> 0\n"
     ]
    }
   ],
   "source": [
    "c_prof = np.array([10, 5, 8, 7, 4, 6, 5, 2, 7, 7, 3, 3, 6, 5, -10, 4, 2, 2, 6, 4, -10, 5, -25, -15, -20])\n",
    "b_prof = np.array([-1100, 0, 0, 0, 150, 300, 250, 200, 200, 0])\n",
    "bub_prof = np.array([1100, 1100, 1100, 200, 200, 200, 200, 200, 200, 200, 200, 200, 200, 200, 150, 200, 200, 200, 200, 200, 300, 200, 250, 200, 200])\n",
    "\n",
    "\n",
    "\n",
    "res_prof = linprog((-1) * c_prof, A_eq = A, b_eq = b_prof, A_ub = Aub, b_ub = bub_prof)\n",
    "print(\"fun:\\n\", res_prof.fun)\n",
    "#print(\"x:\\n\", res_prof.x)\n",
    "\n",
    "print_routes(res_prof)"
   ]
  },
  {
   "cell_type": "markdown",
   "metadata": {},
   "source": [
    "So, I don't entirely know how to run this one in all honesty. It seems like I\n",
    "should run it with negative 1, to maximize, but also since cost is positive, and\n",
    "profit is negative in this system i feel like i would want to minimize like the following."
   ]
  },
  {
   "cell_type": "code",
   "execution_count": 12,
   "metadata": {},
   "outputs": [
    {
     "name": "stdout",
     "output_type": "stream",
     "text": [
      "fun:\n",
      " 13149.997873464315\n",
      "e_0  \t S/TB \t----> 157\n",
      "e_1  \t S/EP \t----> 400\n",
      "e_2  \t S/SF \t----> 543\n",
      "e_3  \t TB/NY \t----> 157\n",
      "e_4  \t TB/AT \t----> 0\n",
      "e_5  \t TB/HN \t----> 0\n",
      "e_6  \t EP/AT \t----> 200\n",
      "e_7  \t EP/HN \t----> 200\n",
      "e_8  \t EP/LA \t----> 0\n",
      "e_9  \t SF/AT \t----> 0\n",
      "e_10  \t SF/HN \t----> 143\n",
      "e_11  \t SF/LA \t----> 200\n",
      "e_12  \t SF/CH \t----> 200\n",
      "e_13  \t AT/NY \t----> 50\n",
      "e_14  \t AT/T \t----> 0\n",
      "e_15  \t AT/CH \t----> 0\n",
      "e_16  \t AT/HN \t----> 0\n",
      "e_17  \t HN/AT \t----> 0\n",
      "e_18  \t HN/NY \t----> 43\n",
      "e_19  \t HN/CH \t----> 0\n",
      "e_20  \t HN/T \t----> 0\n",
      "e_21  \t HN/LA \t----> 0\n",
      "e_22  \t NY/T \t----> 0\n",
      "e_23  \t CH/T \t----> 0\n",
      "e_24  \t LA/T \t----> 0\n"
     ]
    }
   ],
   "source": [
    "c_prof = np.array([10, 5, 8, 7, 4, 6, 5, 2, 7, 7, 3, 3, 6, 5, -10, 4, 2, 2, 6, 4, -10, 5, -25, -15, -20])\n",
    "b_prof = np.array([-1100, 0, 0, 0, 150, 300, 250, 200, 200, 0])\n",
    "bub_prof = np.array([1100, 1100, 1100, 200, 200, 200, 200, 200, 200, 200, 200, 200, 200, 200, 150, 200, 200, 200, 200, 200, 300, 200, 250, 200, 200])\n",
    "\n",
    "\n",
    "\n",
    "res_prof = linprog((1) * c_prof, A_eq = A, b_eq = b_prof, A_ub = Aub, b_ub = bub_prof)\n",
    "print(\"fun:\\n\", res_prof.fun)\n",
    "#print(\"x:\\n\", res_prof.x)\n",
    "\n",
    "print_routes(res_prof)"
   ]
  },
  {
   "cell_type": "code",
   "execution_count": null,
   "metadata": {},
   "outputs": [],
   "source": []
  }
 ],
 "metadata": {
  "kernelspec": {
   "display_name": "Python 3.9.12 ('base')",
   "language": "python",
   "name": "python3"
  },
  "language_info": {
   "codemirror_mode": {
    "name": "ipython",
    "version": 3
   },
   "file_extension": ".py",
   "mimetype": "text/x-python",
   "name": "python",
   "nbconvert_exporter": "python",
   "pygments_lexer": "ipython3",
   "version": "3.9.12"
  },
  "orig_nbformat": 4,
  "vscode": {
   "interpreter": {
    "hash": "b66f734ac159939b27868506697e977ae65be9392b35aa099cd44adcf5e6243b"
   }
  }
 },
 "nbformat": 4,
 "nbformat_minor": 2
}
