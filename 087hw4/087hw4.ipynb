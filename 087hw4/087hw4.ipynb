{
 "cells": [
  {
   "cell_type": "markdown",
   "metadata": {},
   "source": [
    "# Homework 4"
   ]
  },
  {
   "cell_type": "markdown",
   "metadata": {},
   "source": [
    "Setup for the large $A^T$ matrix"
   ]
  },
  {
   "cell_type": "code",
   "execution_count": 22,
   "metadata": {},
   "outputs": [
    {
     "name": "stdout",
     "output_type": "stream",
     "text": [
      "     con: array([], dtype=float64)\n",
      "     fun: 23.000000000169297\n",
      " message: 'Optimization terminated successfully.'\n",
      "     nit: 6\n",
      "   slack: array([-0.00, -0.00, 0.00, 0.00, 0.00, 1.00, 0.00, 0.00, 0.00, 0.00])\n",
      "  status: 0\n",
      " success: True\n",
      "       x: array([0.00, 0.00, 0.00, 0.00, 1.00, 0.00, 0.00, 1.00, 1.00, 0.00, 1.00,\n",
      "       1.00, -0.00, 1.00])\n"
     ]
    }
   ],
   "source": [
    "import numpy as np\n",
    "from scipy.optimize import linprog\n",
    "\n",
    "float_formatter = \"{:.2f}\".format\n",
    "np.set_printoptions(formatter={'float_kind':float_formatter})\n",
    "\n",
    "def sbv(index,size):\n",
    "    return np.array([1.0 if i == index-1 else 0.0 for i in range(size)])\n",
    "\n",
    "B=np.block([[ sbv(1,10) , np.array([ 1, 0, 0, 0]) ],\n",
    "            [ sbv(2,10) , np.array([ 0, 1, 0, 0]) ],\n",
    "            [ sbv(3,10) , np.array([1, -1, 0, 0]) ],\n",
    "            [ sbv(4,10) , np.array([ -1, 1, 0, 0]) ],\n",
    "            [ sbv(5,10) , np.array([ -1, 0, 1, 0]) ],\n",
    "            [ sbv(6,10) , np.array([ 0, 1, -1, 0]) ],\n",
    "            [ sbv(7,10) , np.array([ 0, -1, 0, 1]) ],\n",
    "            [ sbv(8,10) , np.array([ 0, 0, 1, -1]) ],\n",
    "            [ sbv(9,10) , np.array([ 0, 0, 0, -1]) ],\n",
    "            [ sbv(10,10) , np.array([ 0, 0, -1, 0]) ]])\n",
    "\n",
    "ct = np.array([1, 1, 0, 0, 0, 0, 0, 0, 0, 0])\n",
    "\n",
    "b = np.array([16, 13, 10, 4, 12, 9, 14, 7, 4, 20, 0, 0, 0, 0])\n",
    "bounds = np.array(10*[(0,None)] +  4*[(None,None)])\n",
    "\n",
    "\n",
    "res = linprog(b, A_ub = (-1)*B, b_ub = (-1)*ct, bounds=bounds)\n",
    "print(res)\n"
   ]
  },
  {
   "cell_type": "code",
   "execution_count": 26,
   "metadata": {},
   "outputs": [
    {
     "name": "stdout",
     "output_type": "stream",
     "text": [
      "e_0 \t0\n",
      "e_1 \t0\n",
      "e_2 \t0\n",
      "e_3 \t0\n",
      "e_4 \t1\n",
      "e_5 \t0\n",
      "e_6 \t0\n",
      "e_7 \t1\n",
      "e_8 \t1\n",
      "e_9 \t0\n"
     ]
    }
   ],
   "source": [
    "copy = []\n",
    "for i in range(len(res.x) - 4):\n",
    "    if res.x[i] < 0.00001:\n",
    "        copy.append(0)\n",
    "    else:\n",
    "        copy.append(1) \n",
    "    print(\"e_\" + str(i) + \" \\t\" + str(copy[i]))"
   ]
  },
  {
   "cell_type": "code",
   "execution_count": null,
   "metadata": {},
   "outputs": [],
   "source": []
  }
 ],
 "metadata": {
  "kernelspec": {
   "display_name": "Python 3.9.12 ('base')",
   "language": "python",
   "name": "python3"
  },
  "language_info": {
   "codemirror_mode": {
    "name": "ipython",
    "version": 3
   },
   "file_extension": ".py",
   "mimetype": "text/x-python",
   "name": "python",
   "nbconvert_exporter": "python",
   "pygments_lexer": "ipython3",
   "version": "3.9.12"
  },
  "orig_nbformat": 4,
  "vscode": {
   "interpreter": {
    "hash": "b66f734ac159939b27868506697e977ae65be9392b35aa099cd44adcf5e6243b"
   }
  }
 },
 "nbformat": 4,
 "nbformat_minor": 2
}
