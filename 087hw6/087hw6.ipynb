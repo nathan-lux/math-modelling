{
 "cells": [
  {
   "cell_type": "markdown",
   "metadata": {},
   "source": [
    "# Problem 2\n",
    "### Part 1: area of circle"
   ]
  },
  {
   "cell_type": "code",
   "execution_count": 145,
   "metadata": {},
   "outputs": [],
   "source": [
    "import random, math\n",
    "\n",
    "## iter = number of iterations (integer only)\n",
    "## R    = radius of circle (integer or otherwise)\n",
    "## ran  = range of region to check (ie [0, 2] -- only 2D range accepted)\n",
    "def circle(iter, R, ran):\n",
    "    total, in_circle = 0, 0\n",
    "\n",
    "    for i in range(iter):\n",
    "        ## generate random points uniformly over the given interval 'ran'\n",
    "        x = random.uniform(ran[0], ran[1])\n",
    "        y = random.uniform(ran[0], ran[1])\n",
    "\n",
    "        ## sample rejection: remove points not within given area\n",
    "        if (x - 1.25) ** 2 + (y - 1.25) ** 2 <= R ** 2:\n",
    "            in_circle += 1\n",
    "        total += 1\n",
    "\n",
    "    ## calculate the area via ratio of area to volume and expected area\n",
    "    # area is area of square times ratio of dots in circle vs out\n",
    "    area = 4 * in_circle / total\n",
    "\n",
    "    # expected area is just area of the circle of radius R\n",
    "    expected = math.pi * R ** 2\n",
    "\n",
    "    ## check for errors (on small samples no point lands in \n",
    "    ## region so area = 0 causing divide by 0)\n",
    "    if(area != 0):\n",
    "        error = abs((area-expected)/area)\n",
    "    else: \n",
    "        error = \"err, div by 0\"\n",
    "\n",
    "    ## print relevant info\n",
    "    print(\"Given\", iter, R, ran)\n",
    "    print(\"  expected:\\t\", expected)\n",
    "    print(\"  calculated:\\t\", area)\n",
    "    print(\"  error:\\t\", error)"
   ]
  },
  {
   "cell_type": "code",
   "execution_count": 154,
   "metadata": {},
   "outputs": [
    {
     "name": "stdout",
     "output_type": "stream",
     "text": [
      "Given 1 0.6324555320336759 [0, 2]\n",
      "  expected:\t 1.2566370614359172\n",
      "  calculated:\t 0.0\n",
      "  error:\t err, div by 0\n",
      "Given 5 0.6324555320336759 [0, 2]\n",
      "  expected:\t 1.2566370614359172\n",
      "  calculated:\t 0.8\n",
      "  error:\t 0.5707963267948964\n",
      "Given 10 0.6324555320336759 [0, 2]\n",
      "  expected:\t 1.2566370614359172\n",
      "  calculated:\t 1.6\n",
      "  error:\t 0.21460183660255178\n",
      "Given 50 0.6324555320336759 [0, 2]\n",
      "  expected:\t 1.2566370614359172\n",
      "  calculated:\t 1.28\n",
      "  error:\t 0.018252295753189672\n",
      "Given 100 0.6324555320336759 [0, 2]\n",
      "  expected:\t 1.2566370614359172\n",
      "  calculated:\t 1.48\n",
      "  error:\t 0.15092090443519104\n",
      "Given 1000 0.6324555320336759 [0, 2]\n",
      "  expected:\t 1.2566370614359172\n",
      "  calculated:\t 1.216\n",
      "  error:\t 0.03341863604927408\n",
      "Given 5000 0.6324555320336759 [0, 2]\n",
      "  expected:\t 1.2566370614359172\n",
      "  calculated:\t 1.3104\n",
      "  error:\t 0.04102788351959918\n",
      "Given 10000 0.6324555320336759 [0, 2]\n",
      "  expected:\t 1.2566370614359172\n",
      "  calculated:\t 1.2668\n",
      "  error:\t 0.008022528073952226\n",
      "Given 50000 0.6324555320336759 [0, 2]\n",
      "  expected:\t 1.2566370614359172\n",
      "  calculated:\t 1.25528\n",
      "  error:\t 0.001081082655596596\n",
      "Given 100000 0.6324555320336759 [0, 2]\n",
      "  expected:\t 1.2566370614359172\n",
      "  calculated:\t 1.2522\n",
      "  error:\t 0.0035434127423073524\n",
      "Given 500000 0.6324555320336759 [0, 2]\n",
      "  expected:\t 1.2566370614359172\n",
      "  calculated:\t 1.249848\n",
      "  error:\t 0.005431909668949485\n",
      "Given 1000000 0.6324555320336759 [0, 2]\n",
      "  expected:\t 1.2566370614359172\n",
      "  calculated:\t 1.259312\n",
      "  error:\t 0.0021241269551014685\n"
     ]
    }
   ],
   "source": [
    "import numpy as np\n",
    "# setup for the first circle\n",
    "iters=[1, 5, 10, 50, 100, 1000, 5000, 10000, 50000, 100000, 500000, 1000000]\n",
    "\n",
    "a = np.sqrt(.4)\n",
    "b = np.sqrt(.3)\n",
    "ran1 = [0,2]\n",
    "\n",
    "## loop through and find vals for iters\n",
    "for i in range(len(iters)):\n",
    "    circle(iters[i], a, ran1)\n"
   ]
  },
  {
   "cell_type": "markdown",
   "metadata": {},
   "source": [
    "## Part 2: Intersection of two circles\n",
    "### Other methods of achieving the correct result"
   ]
  },
  {
   "cell_type": "markdown",
   "metadata": {},
   "source": [
    "I am not the author of the following code block, I found it at\n",
    "https://scipython.com/book/chapter-8-scipy/problems/p84/overlapping-circles/\n",
    "this link. This block, and the next, I copy and pasted into here purely for the\n",
    "intent of testing my own code and so I didn't have to reinvent the wheel by\n",
    "trying to solve for the intersection area on my own."
   ]
  },
  {
   "cell_type": "code",
   "execution_count": 147,
   "metadata": {},
   "outputs": [],
   "source": [
    "import numpy as np\n",
    "from scipy.optimize import brentq\n",
    "\n",
    "## !! THIS IS NOT MY WORK !! ##\n",
    "\n",
    "def intersection_area(d, R, r):\n",
    "    \"\"\"Return the area of intersection of two circles.\n",
    "\n",
    "    The circles have radii R and r, and their centres are separated by d.\n",
    "\n",
    "    \"\"\"\n",
    "\n",
    "    if d <= abs(R-r):\n",
    "        # One circle is entirely enclosed in the other.\n",
    "        return np.pi * min(R, r)**2\n",
    "    if d >= r + R:\n",
    "        # The circles don't overlap at all.\n",
    "        print(\"zero\")\n",
    "        return 0\n",
    "\n",
    "    r2, R2, d2 = r**2, R**2, d**2\n",
    "    alpha = np.arccos((d2 + r2 - R2) / (2*d*r))\n",
    "    beta = np.arccos((d2 + R2 - r2) / (2*d*R))\n",
    "    return ( r2 * alpha + R2 * beta -\n",
    "             0.5 * (r2 * np.sin(2*alpha) + R2 * np.sin(2*beta))\n",
    "           )\n",
    "\n",
    "def find_d(A, R, r):\n",
    "    \"\"\"\n",
    "    Find the distance between the centres of two circles giving overlap area A.\n",
    "\n",
    "    \"\"\"\n",
    "\n",
    "    # A cannot be larger than the area of the smallest circle!\n",
    "    if A > np.pi * min(r, R)**2:\n",
    "        raise ValueError(\"Intersection area can't be larger than the area\"\n",
    "                         \" of the smallest circle\")\n",
    "    if A == 0:\n",
    "        # If the circles don't overlap, place them next to each other\n",
    "        return R+r\n",
    "\n",
    "    if A < 0:\n",
    "        raise ValueError('Negative intersection area')\n",
    "\n",
    "    def f(d, A, R, r):\n",
    "        return intersection_area(d, R, r) - A\n",
    "\n",
    "    a, b = abs(R-r), R+r\n",
    "    d = brentq(f, a, b, args=(A, R, r))\n",
    "    return d"
   ]
  },
  {
   "cell_type": "code",
   "execution_count": 148,
   "metadata": {},
   "outputs": [
    {
     "name": "stdout",
     "output_type": "stream",
     "text": [
      "0.3109774379193245\n",
      "1.1801780895388418\n"
     ]
    }
   ],
   "source": [
    "p = np.sqrt(2)/2\n",
    "print(intersection_area(p, np.sqrt(.4), np.sqrt(.3)))\n",
    "print(a+b)"
   ]
  },
  {
   "cell_type": "markdown",
   "metadata": {},
   "source": [
    "I am not the author of the following code block, I found this at the following\n",
    "link\n",
    "(https://practice.geeksforgeeks.org/problems/area-of-intersection-of-two-circles0653/1\n",
    "a solution by user \"yash478c\")"
   ]
  },
  {
   "cell_type": "code",
   "execution_count": 149,
   "metadata": {},
   "outputs": [],
   "source": [
    "## !! THIS IS NOT MY WORK !! ##\n",
    "def intersectionArea(X1,Y1,R1,X2,Y2,R2):\n",
    "        #code here\n",
    "        Pi = 3.14\n",
    "        d = math.sqrt((X2 - X1) * (X2 - X1) + (Y2 - Y1) * (Y2 - Y1));\n",
    "\n",
    "        if d > R1 + R2:\n",
    "            ans = 0\n",
    "        elif d <= abs(R2 - R1) and R1 >= R2:\n",
    "            \n",
    "            ans = (Pi * R2 * R2)\n",
    "\n",
    "        elif d <= abs(R2 - R1) and R2 >= R1:\n",
    "            \n",
    "            ans =(Pi * R1 * R1)\n",
    "\n",
    "        else :\n",
    "            alpha = math.acos((R1 * R1 + d * d - R2 * R2) / (2 * R1 * d)) * 2;\n",
    "            beta = math.acos((R2 * R2 + d * d - R1 * R1) / (2 * R2 * d)) * 2;\n",
    "            a1 = 0.5 * beta * R2 * R2 - 0.5 * R2 * R2 * math.sin(beta);\n",
    "            a2 = 0.5 * alpha * R1 * R1 - 0.5 * R1 * R1 * math.sin(alpha);\n",
    "            ans = (a1 + a2);\n",
    "        return ans\n",
    "\n",
    "def area_circle(R):\n",
    "    return np.pi * R ** 2"
   ]
  },
  {
   "cell_type": "markdown",
   "metadata": {},
   "source": [
    "We are back to seeing my own work now"
   ]
  },
  {
   "cell_type": "code",
   "execution_count": 150,
   "metadata": {},
   "outputs": [
    {
     "name": "stdout",
     "output_type": "stream",
     "text": [
      "0.3109774379193244\n"
     ]
    }
   ],
   "source": [
    "print(intersectionArea(1.25, 1.25, np.sqrt(.4), .75, .75, np.sqrt(.3)))\n",
    "A = float(np.pi) * a**2\n",
    "B = float(np.pi) * b**2\n"
   ]
  },
  {
   "cell_type": "markdown",
   "metadata": {},
   "source": [
    "### Monte Carlo Way Part 2"
   ]
  },
  {
   "cell_type": "code",
   "execution_count": 151,
   "metadata": {},
   "outputs": [
    {
     "name": "stdout",
     "output_type": "stream",
     "text": [
      "Given 1000000 0.6324555320336759 0.5477225575051661 [0, 2]\n",
      "  expected:\t 1.8881374195935308\n",
      "  calculated:\t 1.887716\n",
      "  error:\t 0.00022324311153309822\n"
     ]
    }
   ],
   "source": [
    "def circle_prime(iter, R1, R2, ran):\n",
    "    total, in_circle = 0, 0\n",
    "\n",
    "    for i in range(iter):\n",
    "        ## generate random points uniformly over the given interval 'ran'\n",
    "        x = random.uniform(ran[0], ran[1])\n",
    "        y = random.uniform(ran[0], ran[1])\n",
    "\n",
    "        ## sample rejection: remove points not within given area\n",
    "        if ((x - 1.25) ** 2 + (y - 1.25) ** 2 <= R1 ** 2 or \n",
    "            (x - 0.75) ** 2 + (y - 0.75) ** 2 <= R2 ** 2):\n",
    "            in_circle += 1\n",
    "        total += 1\n",
    "\n",
    "    ## calculate the area via ratio of area to volume and expected area\n",
    "    # area is area of square times ratio of dots in circle vs out\n",
    "    area = (ran[1] ** 2) * (in_circle / total)\n",
    "    \n",
    "    # expected is total area minus intersectional area\n",
    "    expected = A + B - intersection_area(p, R1, R2)\n",
    "\n",
    "    ## check for errors (on small samples no point lands in \n",
    "    ## region so area = 0 causing divide by 0)\n",
    "    if(area != 0):\n",
    "        error = abs((area-expected)/area)\n",
    "    else: \n",
    "        error = \"err, div by 0\"\n",
    "\n",
    "    ## print relevant info\n",
    "    print(\"Given\", iter, R1, R2, ran)\n",
    "    print(\"  expected:\\t\", expected)\n",
    "    print(\"  calculated:\\t\", area)\n",
    "    print(\"  error:\\t\", error)\n",
    "    \n",
    "    ## return the area for later comparison\n",
    "    return area\n",
    "\n",
    "calc = circle_prime(1000000, a, b, [0, 2])\n"
   ]
  },
  {
   "cell_type": "code",
   "execution_count": 152,
   "metadata": {},
   "outputs": [
    {
     "name": "stdout",
     "output_type": "stream",
     "text": [
      "area of C :\t 1.2566370614359172\n",
      "area of C':\t 0.9424777960769377\n",
      "C plus C' :\t 2.199114857512855\n",
      "calculated:\t 1.887716\n"
     ]
    }
   ],
   "source": [
    "print(\"area of C :\\t\", A)\n",
    "print(\"area of C':\\t\", B)\n",
    "print(\"C plus C' :\\t\", A + B)\n",
    "print(\"calculated:\\t\", calc)"
   ]
  },
  {
   "cell_type": "markdown",
   "metadata": {},
   "source": [
    "So we can see this all makes sense, the calculated value is in fact less than\n",
    "the total value of the circles seperately"
   ]
  },
  {
   "cell_type": "markdown",
   "metadata": {},
   "source": []
  }
 ],
 "metadata": {
  "kernelspec": {
   "display_name": "Python 3.9.12 ('base')",
   "language": "python",
   "name": "python3"
  },
  "language_info": {
   "codemirror_mode": {
    "name": "ipython",
    "version": 3
   },
   "file_extension": ".py",
   "mimetype": "text/x-python",
   "name": "python",
   "nbconvert_exporter": "python",
   "pygments_lexer": "ipython3",
   "version": "3.9.12"
  },
  "orig_nbformat": 4,
  "vscode": {
   "interpreter": {
    "hash": "b66f734ac159939b27868506697e977ae65be9392b35aa099cd44adcf5e6243b"
   }
  }
 },
 "nbformat": 4,
 "nbformat_minor": 2
}
