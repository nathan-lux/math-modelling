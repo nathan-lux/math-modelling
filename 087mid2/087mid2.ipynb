{
 "cells": [
  {
   "cell_type": "code",
   "execution_count": 1,
   "metadata": {},
   "outputs": [],
   "source": [
    "import numpy as np\n",
    "\n",
    "## TESTERS  ##############################\n",
    "I = np.identity(5)\n",
    "B = np.array([[1,1],\n",
    "              [0,1]])\n",
    "U = np.array([[0, 0, 0, 0, 0],\n",
    "              [1, 0, 0, 0, 0],\n",
    "              [1, 1, 0, 0, 0],\n",
    "              [1, 0, 1, 0, 0],\n",
    "              [0, 1, 0, 1, 0]])\n",
    "P = np.array([[0, 0, 0, 0, 1],\n",
    "              [1, 0, 0, 0, 1],\n",
    "              [1, 1, 0, 0, 1],\n",
    "              [1, 0, 1, 0, 1],\n",
    "              [0, 1, 0, 1, 1]])\n",
    "###########################################\n",
    "\n",
    "## make_transition is a function that takes in an adjacency matrix and\n",
    "## produces a transition matrix under a given sets of rules and using a\n",
    "## probability damping factor in accordance with the pagerank system\n",
    "def make_transition(A, p):\n",
    "    (n, m) = A.shape\n",
    "    big_c = np.zeros((n,n))\n",
    "\n",
    "    # check if square\n",
    "    if n == m:\n",
    "        # get number of ones in a column\n",
    "        for i in range(n):\n",
    "            col = A[:, i]\n",
    "            c = 0\n",
    "\n",
    "            #count number of ones in a column\n",
    "            for j in range(n):\n",
    "                if col[j] == 1:\n",
    "                    c = c + 1\n",
    "\n",
    "            # a fix for if the column is of zeros, replaces with one\n",
    "            if c == 0:\n",
    "                col = np.ones(n)\n",
    "                c = n\n",
    "\n",
    "            # populate the big_C matrix with the correct values given\n",
    "            # part 1\n",
    "            for k in range(n):\n",
    "                if col[k] == 1:\n",
    "                    big_c[k][i] = (n + (c - n) * p)/(c * n)\n",
    "                else:\n",
    "                    big_c[k][i] = p/n\n",
    "\n",
    "    # return the final array\n",
    "    return big_c\n",
    "\n",
    "a = make_transition(U, .8)\n",
    "b = make_transition(P, .8)\n",
    "c = make_transition(U, .4)\n",
    "\n"
   ]
  },
  {
   "cell_type": "code",
   "execution_count": 73,
   "metadata": {},
   "outputs": [
    {
     "name": "stdout",
     "output_type": "stream",
     "text": [
      "Transition Matrix:\n",
      "[[0 0 0 0 1]\n",
      " [1 0 0 0 1]\n",
      " [1 1 0 0 1]\n",
      " [1 0 1 0 1]\n",
      " [0 1 0 1 1]] \n",
      "\n",
      "Adjacency Matrix:\n",
      "[[0.16000 0.16000 0.16000 0.16000 0.20000]\n",
      " [0.22667 0.16000 0.16000 0.16000 0.20000]\n",
      " [0.22667 0.26000 0.16000 0.16000 0.20000]\n",
      " [0.22667 0.16000 0.36000 0.16000 0.20000]\n",
      " [0.16000 0.26000 0.16000 0.36000 0.20000]]\n"
     ]
    }
   ],
   "source": [
    "print(\"Transition Matrix:\")\n",
    "print(P, \"\\n\")\n",
    "\n",
    "print(\"Adjacency Matrix:\")\n",
    "print(make_transition(P, .8))"
   ]
  },
  {
   "cell_type": "markdown",
   "metadata": {},
   "source": [
    "## Problem 3\n",
    "We now desire to have some knowledge about the eigenvectors of our above\n",
    "matrices. We start by formulating a bit of functionality that will become useful\n",
    "soon, and then we start figuring out eigenvectors associated with the eigen\n",
    "value 1."
   ]
  },
  {
   "cell_type": "code",
   "execution_count": 2,
   "metadata": {},
   "outputs": [],
   "source": [
    "e_val_b, e_vec_b = np.linalg.eig(b)\n",
    "e_val_c, e_vec_c = np.linalg.eig(c)"
   ]
  },
  {
   "cell_type": "code",
   "execution_count": 3,
   "metadata": {},
   "outputs": [],
   "source": [
    "float_formatter = \"{:.4f}\".format\n",
    "np.set_printoptions(formatter={'float_kind':float_formatter})\n",
    "\n",
    "def sum_vec(vec):\n",
    "    sum = 0\n",
    "    for i in range(len(vec)):\n",
    "        sum = vec[i] + sum\n",
    "    return sum\n",
    "\n",
    "def normalize(vec):\n",
    "    sum = np.sum(vec)\n",
    "    norm_vec = vec / sum\n",
    "\n",
    "    return norm_vec\n",
    "\n",
    "def print_norm(vec):\n",
    "    print(sum_vec(normalize(vec)))"
   ]
  },
  {
   "cell_type": "code",
   "execution_count": 75,
   "metadata": {},
   "outputs": [
    {
     "name": "stdout",
     "output_type": "stream",
     "text": [
      "eigen val for first entry in e_val_b:   (1+0j)\n",
      "eigen val for first entry in e_val_c:   (1.0000000000000004+0j)\n"
     ]
    }
   ],
   "source": [
    "## determine which eigenvalue is of value one\n",
    "print(\"eigen val for first entry in e_val_b:  \", e_val_b[0])\n",
    "print(\"eigen val for first entry in e_val_c:  \", e_val_c[0])\n"
   ]
  },
  {
   "cell_type": "markdown",
   "metadata": {},
   "source": [
    "Clearly the first entry (index zero) has the value one, so the associated\n",
    "eigenvector in our matrix should be the associated 1-eigenvector"
   ]
  },
  {
   "cell_type": "code",
   "execution_count": 76,
   "metadata": {},
   "outputs": [
    {
     "name": "stdout",
     "output_type": "stream",
     "text": [
      "ovb:   [-0.3759169 +0.j -0.40097802+0.j -0.44107583+0.j -0.48919319+0.j\n",
      " -0.51385334+0.j]\n",
      "ovc:   [0.24682597+0.j 0.29619116+0.j 0.38504851+0.j 0.52722026+0.j\n",
      " 0.65201547+0.j]\n"
     ]
    }
   ],
   "source": [
    "## name the vector of interest as the one eigenvector\n",
    "ovb = e_vec_b[:,0]\n",
    "print(\"ovb:  \", ovb)\n",
    "\n",
    "ovc = e_vec_c[:,0]\n",
    "print(\"ovc:  \", ovc)"
   ]
  },
  {
   "cell_type": "markdown",
   "metadata": {},
   "source": [
    "We would now like to normalize this eigenvector, as it needs to be a probability\n",
    "vector, so it should sum to one...<br>\n",
    "\n",
    "We do this by creating a new vector that is normalized. To do this, we divide\n",
    "each entry in the vector by the sum of all the entries in the vector."
   ]
  },
  {
   "cell_type": "code",
   "execution_count": 6,
   "metadata": {},
   "outputs": [
    {
     "name": "stdout",
     "output_type": "stream",
     "text": [
      "NORMALISED VECTOR:\n",
      " [0.16925438-0.j 0.180538  -0.j 0.1985918 -0.j 0.22025636-0.j\n",
      " 0.23135945-0.j] \n",
      "\n",
      "NORMALISATION TEST:\n",
      "(1+0j)\n",
      "\n",
      "FORMATTED VECTOR:\n",
      "(0.1692543780465788-0j)\n",
      "(0.18053800324968394-0j)\n",
      "(0.19859180357465242-0j)\n",
      "(0.22025636396461457-0j)\n",
      "(0.23135945116447024-0j)\n",
      "\n",
      "\n"
     ]
    }
   ],
   "source": [
    "def norm_inf(ov):\n",
    "    ## normalize ov\n",
    "    ov_n = normalize(ov)\n",
    "    print(\"NORMALISED VECTOR:\\n\", ov_n, \"\\n\")\n",
    "\n",
    "    ## Normalization test\n",
    "    print(\"NORMALISATION TEST:\")\n",
    "    print(np.sum(ov_n))\n",
    "\n",
    "    print()\n",
    "\n",
    "    print(\"FORMATTED VECTOR:\")\n",
    "    for i in range(len(ov_n)):\n",
    "        print(ov_n[i])\n",
    "\n",
    "    print()\n",
    "    print()\n",
    "\n",
    "norm_inf(ovb)"
   ]
  },
  {
   "cell_type": "code",
   "execution_count": 7,
   "metadata": {},
   "outputs": [
    {
     "name": "stdout",
     "output_type": "stream",
     "text": [
      "NORMALISED VECTOR:\n",
      " [0.11712894+0.j 0.14055472+0.j 0.18272114+0.j 0.25018741+0.j\n",
      " 0.3094078 +0.j] \n",
      "\n",
      "NORMALISATION TEST:\n",
      "(1+0j)\n",
      "\n",
      "FORMATTED VECTOR:\n",
      "(0.11712893553223379+0j)\n",
      "(0.14055472263868063+0j)\n",
      "(0.1827211394302849+0j)\n",
      "(0.25018740629685166+0j)\n",
      "(0.309407796101949+0j)\n",
      "\n",
      "\n"
     ]
    }
   ],
   "source": [
    "norm_inf(ovc)"
   ]
  },
  {
   "cell_type": "markdown",
   "metadata": {},
   "source": [
    "What does this eigenvector represent though? Eigenvectors of a stochastic matrix\n",
    "represent state state probabilities. This means that the long term probabilities\n",
    "of being in each of the given nodes is given by the above vector.<br>\n",
    "\n",
    "I don't completely understand the implications behind one of the values in the\n",
    "abovematrix being less than 0. Frankly it makes me think something has gone\n",
    "wrong, but for now this is what we have!"
   ]
  },
  {
   "cell_type": "markdown",
   "metadata": {},
   "source": [
    "We can also use power iteration to determine the eigenvector for this matrix."
   ]
  },
  {
   "cell_type": "code",
   "execution_count": 77,
   "metadata": {},
   "outputs": [
    {
     "name": "stdout",
     "output_type": "stream",
     "text": [
      "**aa:\n",
      " [0.16925 0.18054 0.19859 0.22026 0.23136]\n",
      "**cc:\n",
      " [0.11713 0.14055 0.18272 0.25019 0.30941]\n"
     ]
    }
   ],
   "source": [
    "aa = (np.linalg.matrix_power(a,200))\n",
    "cc = (np.linalg.matrix_power(c,200))\n",
    "print(\"**aa:\\n\", aa[:,0])\n",
    "print(\"**cc:\\n\", cc[:,0])"
   ]
  },
  {
   "cell_type": "markdown",
   "metadata": {},
   "source": [
    "## Problem 4"
   ]
  },
  {
   "cell_type": "markdown",
   "metadata": {},
   "source": [
    "First we need to develop a transition matrix for this. And for that, we need the\n",
    "adjacency matrix"
   ]
  },
  {
   "cell_type": "code",
   "execution_count": 9,
   "metadata": {},
   "outputs": [
    {
     "name": "stdout",
     "output_type": "stream",
     "text": [
      "[[0.1600 0.2267 0.2600 0.2600 0.3600]\n",
      " [0.2267 0.1600 0.1600 0.1600 0.1600]\n",
      " [0.2267 0.2267 0.1600 0.1600 0.1600]\n",
      " [0.2267 0.1600 0.2600 0.1600 0.1600]\n",
      " [0.1600 0.2267 0.1600 0.2600 0.1600]]\n"
     ]
    }
   ],
   "source": [
    "B = np.array([[0, 1, 1, 1, 1],\n",
    "              [1, 0, 0, 0, 0],\n",
    "              [1, 1, 0, 0, 0],\n",
    "              [1, 0, 1, 0, 0],\n",
    "              [0, 1, 0, 1, 0]])\n",
    "big_b = make_transition(B, .8)\n",
    "print(big_b)"
   ]
  },
  {
   "cell_type": "markdown",
   "metadata": {},
   "source": [
    "### Analysis of the $p = .8$ case"
   ]
  },
  {
   "cell_type": "code",
   "execution_count": 10,
   "metadata": {},
   "outputs": [
    {
     "name": "stdout",
     "output_type": "stream",
     "text": [
      "[ 1.        +0.j         -0.07788218+0.07338108j -0.07788218-0.07338108j\n",
      " -0.02211782+0.05824321j -0.02211782-0.05824321j]\n"
     ]
    }
   ],
   "source": [
    "e_vlb, e_vcb = np.linalg.eig(big_b)\n",
    "print(e_vlb)\n"
   ]
  },
  {
   "cell_type": "markdown",
   "metadata": {},
   "source": [
    "So the eigenvalue is at index 1"
   ]
  },
  {
   "cell_type": "code",
   "execution_count": 11,
   "metadata": {},
   "outputs": [
    {
     "name": "stdout",
     "output_type": "stream",
     "text": [
      "[0.55116102+0.j 0.39175186+0.j 0.41786866+0.j 0.43353873+0.j\n",
      " 0.42447846+0.j]\n",
      "NORMALISED VECTOR:\n",
      " [0.24840514+0.j 0.17656034+0.j 0.18833103+0.j 0.19539345+0.j\n",
      " 0.19131003+0.j] \n",
      "\n",
      "NORMALISATION TEST:\n",
      "(0.9999999999999999+0j)\n",
      "\n",
      "FORMATTED VECTOR:\n",
      "(0.248405144227276+0j)\n",
      "(0.17656034294848497+0j)\n",
      "(0.18833103247838412+0j)\n",
      "(0.1953934461963234+0j)\n",
      "(0.19131003414953138+0j)\n",
      "\n",
      "\n"
     ]
    }
   ],
   "source": [
    "e = e_vcb[:,0]\n",
    "print(e)\n",
    "\n",
    "e_n = normalize(e)\n",
    "norm_inf(e_n)"
   ]
  },
  {
   "cell_type": "markdown",
   "metadata": {},
   "source": [
    "### Analysis of $p=.4$"
   ]
  },
  {
   "cell_type": "code",
   "execution_count": 12,
   "metadata": {},
   "outputs": [
    {
     "name": "stdout",
     "output_type": "stream",
     "text": [
      "[ 1.        +0.j         -0.23364655+0.22014324j -0.23364655-0.22014324j\n",
      " -0.06635345+0.17472963j -0.06635345-0.17472963j]\n"
     ]
    }
   ],
   "source": [
    "big_b2 = make_transition(B, 0.4)\n",
    "e_vlb2, e_vcb2 = np.linalg.eig(big_b2)\n",
    "print(e_vlb2)\n"
   ]
  },
  {
   "cell_type": "code",
   "execution_count": 13,
   "metadata": {},
   "outputs": [
    {
     "name": "stdout",
     "output_type": "stream",
     "text": [
      "[0.55116102+0.j 0.39175186+0.j 0.41786866+0.j 0.43353873+0.j\n",
      " 0.42447846+0.j]\n",
      "NORMALISED VECTOR:\n",
      " [0.31989529-0.j 0.14397906-0.j 0.17277487-0.j 0.19581152-0.j\n",
      " 0.16753927-0.j] \n",
      "\n",
      "NORMALISATION TEST:\n",
      "(1+0j)\n",
      "\n",
      "FORMATTED VECTOR:\n",
      "(0.31989528795811517-0j)\n",
      "(0.14397905759162308-0j)\n",
      "(0.17277486910994766-0j)\n",
      "(0.1958115183246073-0j)\n",
      "(0.16753926701570687-0j)\n",
      "\n",
      "\n"
     ]
    }
   ],
   "source": [
    "e2 = e_vcb2[:,0]\n",
    "print(e)\n",
    "\n",
    "e_n2 = normalize(e2)\n",
    "norm_inf(e_n2)"
   ]
  },
  {
   "cell_type": "code",
   "execution_count": 14,
   "metadata": {},
   "outputs": [],
   "source": [
    "import numpy as np\n",
    "import json\n",
    "float_formatter = \"{:.5f}\".format\n",
    "np.set_printoptions(formatter={'float_kind':float_formatter})\n",
    "def bv(it,items):\n",
    "    return np.array([1.0 if i == items.index(it)\n",
    "                     else 0.0 for i in range(len(items))])\n",
    "## >>> bv(\"c\",[\"a\",\"b\",\"c\",\"d\"])\n",
    "## array([0.00000, 0.00000, 1.00000, 0.00000])\n",
    "def adj_from_json(json_file):\n",
    "    with open(json_file) as f:\n",
    "        adj_data = json.load(f)\n",
    "    dict = {}\n",
    "    \n",
    "    for i in adj_data:\n",
    "        lfrom = i['from']\n",
    "        lto   = i['to']\n",
    "        if lfrom in dict.keys():\n",
    "            dict[lfrom].add(lto)\n",
    "        else:\n",
    "            dict[lfrom] = set()\n",
    "            dict[lfrom].add(lto)\n",
    "        if not(lto in dict.keys()):\n",
    "            dict[lto] = set()\n",
    "            \n",
    "    sites = list(dict.keys())\n",
    "    \n",
    "    A = np.array([sum([bv(l_to, sites) for l_to in dict[l_from]],\n",
    "                      np.zeros(len(sites)))\n",
    "                  for l_from in sites]) \n",
    "    return (sites, A)\n",
    "    "
   ]
  },
  {
   "cell_type": "code",
   "execution_count": 17,
   "metadata": {},
   "outputs": [
    {
     "name": "stdout",
     "output_type": "stream",
     "text": [
      "['Blue Whale', 'Snail', 'Alligator', 'Lark', 'Fruit Bat', 'Gerbil', 'Hyena', 'Starfish', 'Carp', 'Bee', 'Giraffe', 'Asp', 'Domestic Canary', 'Buffalo', 'Star-Nosed Mole', 'Arctic Wolf', 'Porcupine', 'Reindeer', 'Muskox', 'Leopard', 'Armadillo', 'Crane Fly', 'Emu', 'Badger', 'Takin', 'Heron', 'Basilisk', 'Penguin', 'Beetle', 'Amphibian', 'Rhinoceros', 'Bonobo', 'Jellyfish', 'Fowl', 'Donkey', 'Arabian Leopard', 'Lemur', 'Swift', 'Aphid', 'Locust', 'Peafowl', 'Whale', 'Bald Eagle', 'Woodpecker', 'Minnow', 'Alpaca', 'Raven', 'Crocodile', 'Bat', 'Jay', 'Albatross', 'Possum', 'Ape', 'Mosquito', 'Robin', 'Vicuna', 'Elephant', 'Harrier', 'Falcon', 'Mite', 'Swan', 'Anglerfish', 'Anteater', 'Arrow Crab', 'Arctic Fox', 'Sheep', 'Ant', 'Ground Shark', 'Turtle', 'Aardvark', 'Squirrel', 'Bison', 'Meadowlark', 'Ocelot', 'Ground Sloth', 'Baboon', 'Anaconda', 'Grouse', 'Aardwolf', 'Guan', 'Panda', 'Dung Beetle', 'Scale Insect', 'Reptile', 'Antlion', 'Antelope', 'Giant Squid', 'Rook', 'Dingo', 'Salmon', 'Domestic Goose', 'Cicada', 'Angelfish']\n"
     ]
    }
   ],
   "source": [
    "(ll, A) = adj_from_json(\"data.json\")\n",
    "print(ll)"
   ]
  },
  {
   "cell_type": "code",
   "execution_count": 21,
   "metadata": {},
   "outputs": [
    {
     "name": "stdout",
     "output_type": "stream",
     "text": [
      "[ 1.00000000e+00+0.j          5.81335370e-02+0.09862851j\n",
      "  5.81335370e-02-0.09862851j  1.10155151e-01+0.j\n",
      "  8.09646903e-02+0.07090688j  8.09646903e-02-0.07090688j\n",
      "  9.32008734e-02+0.04660742j  9.32008734e-02-0.04660742j\n",
      " -1.56819457e-02+0.10588806j -1.56819457e-02-0.10588806j\n",
      "  2.89649299e-02+0.09979826j  2.89649299e-02-0.09979826j\n",
      "  9.93204040e-02+0.01613876j  9.93204040e-02-0.01613876j\n",
      "  9.42368093e-02+0.00672646j  9.42368093e-02-0.00672646j\n",
      "  6.89643622e-03+0.1030294j   6.89643622e-03-0.1030294j\n",
      "  4.86905798e-02+0.0823792j   4.86905798e-02-0.0823792j\n",
      "  8.21566725e-02+0.03741955j  8.21566725e-02-0.03741955j\n",
      " -1.14948480e-01+0.j         -1.00611645e-01+0.04570818j\n",
      " -1.00611645e-01-0.04570818j -7.94183273e-02+0.07085312j\n",
      " -7.94183273e-02-0.07085312j -1.06389167e-01+0.j\n",
      " -1.01089822e-01+0.03183306j -1.01089822e-01-0.03183306j\n",
      " -1.31544158e-02+0.09723973j -1.31544158e-02-0.09723973j\n",
      " -7.54377898e-02+0.06346874j -7.54377898e-02-0.06346874j\n",
      "  4.38950297e-03+0.08976249j  4.38950297e-03-0.08976249j\n",
      " -8.59004198e-02+0.03558716j -8.59004198e-02-0.03558716j\n",
      "  7.34876563e-02+0.02449853j  7.34876563e-02-0.02449853j\n",
      " -2.78005174e-02+0.07997022j -2.78005174e-02-0.07997022j\n",
      "  7.17116206e-02+0.j         -6.98170161e-02+0.04486211j\n",
      " -6.98170161e-02-0.04486211j -5.14204833e-02+0.06215736j\n",
      " -5.14204833e-02-0.06215736j  3.88711135e-02+0.05850915j\n",
      "  3.88711135e-02-0.05850915j -7.68717429e-02+0.j\n",
      " -6.45147990e-02+0.03444725j -6.45147990e-02-0.03444725j\n",
      "  1.69280918e-02+0.06639025j  1.69280918e-02-0.06639025j\n",
      " -1.89286725e-02+0.06732008j -1.89286725e-02-0.06732008j\n",
      "  5.33965743e-02+0.02106016j  5.33965743e-02-0.02106016j\n",
      " -2.93686414e-02+0.0545441j  -2.93686414e-02-0.0545441j\n",
      " -6.05459242e-02+0.00506888j -6.05459242e-02-0.00506888j\n",
      "  3.93599474e-02+0.02347753j  3.93599474e-02-0.02347753j\n",
      " -1.02712318e-02+0.04567562j -1.02712318e-02-0.04567562j\n",
      "  1.63307675e-02+0.04074528j  1.63307675e-02-0.04074528j\n",
      "  3.59265964e-02+0.j          3.33850803e-02+0.01220985j\n",
      "  3.33850803e-02-0.01220985j -3.30623894e-02+0.02901733j\n",
      " -3.30623894e-02-0.02901733j  9.92635417e-03+0.03167826j\n",
      "  9.92635417e-03-0.03167826j -4.35751117e-02+0.j\n",
      " -4.09327636e-02+0.j         -5.32715066e-03+0.03070314j\n",
      " -5.32715066e-03-0.03070314j  2.14813671e-02+0.j\n",
      " -2.82100528e-02+0.01202141j -2.82100528e-02-0.01202141j\n",
      "  1.83637684e-03+0.01947041j  1.83637684e-03-0.01947041j\n",
      " -1.62627983e-02+0.01669296j -1.62627983e-02-0.01669296j\n",
      " -1.85868871e-02+0.j         -7.80292050e-03+0.01073254j\n",
      " -7.80292050e-03-0.01073254j -3.21783933e-03+0.j\n",
      "  3.63147525e-17+0.j          5.99917059e-18+0.j\n",
      " -1.09711522e-16+0.j        ]\n"
     ]
    }
   ],
   "source": [
    "A_a = make_transition(A, 0.8)\n",
    "e_vlA, e_vcA = np.linalg.eig(A_a)\n",
    "print(e_vlA)"
   ]
  },
  {
   "cell_type": "code",
   "execution_count": 83,
   "metadata": {},
   "outputs": [
    {
     "name": "stdout",
     "output_type": "stream",
     "text": [
      "NORMALISED VECTOR:\n",
      " [0.01353617-0.j 0.01061748-0.j 0.01035092-0.j 0.01104113-0.j\n",
      " 0.01052326-0.j 0.01188469-0.j 0.01002245-0.j 0.01031449-0.j\n",
      " 0.01182667-0.j 0.01021592-0.j 0.01012033-0.j 0.01006833-0.j\n",
      " 0.00988444-0.j 0.01014988-0.j 0.01010244-0.j 0.01080226-0.j\n",
      " 0.01158824-0.j 0.0101065 -0.j 0.01061071-0.j 0.01039863-0.j\n",
      " 0.01034989-0.j 0.01061232-0.j 0.01026845-0.j 0.01069608-0.j\n",
      " 0.00983503-0.j 0.01155814-0.j 0.01082512-0.j 0.0114764 -0.j\n",
      " 0.01043247-0.j 0.01071333-0.j 0.01045341-0.j 0.01052212-0.j\n",
      " 0.00996873-0.j 0.01190911-0.j 0.01271324-0.j 0.01016368-0.j\n",
      " 0.01172406-0.j 0.00999422-0.j 0.01045753-0.j 0.01069652-0.j\n",
      " 0.01161354-0.j 0.01092861-0.j 0.00985734-0.j 0.01069072-0.j\n",
      " 0.01131682-0.j 0.01045158-0.j 0.01028739-0.j 0.01021389-0.j\n",
      " 0.01144867-0.j 0.01062477-0.j 0.01181791-0.j 0.01062761-0.j\n",
      " 0.01082268-0.j 0.01098041-0.j 0.01075465-0.j 0.01066789-0.j\n",
      " 0.01063725-0.j 0.01159582-0.j 0.01021821-0.j 0.01061801-0.j\n",
      " 0.01058249-0.j 0.01053079-0.j 0.01009816-0.j 0.00995407-0.j\n",
      " 0.01059357-0.j 0.01013115-0.j 0.01308559-0.j 0.01059497-0.j\n",
      " 0.01031628-0.j 0.00995536-0.j 0.01215135-0.j 0.01043975-0.j\n",
      " 0.00998269-0.j 0.01126835-0.j 0.01004523-0.j 0.01104101-0.j\n",
      " 0.01076059-0.j 0.01202048-0.j 0.01076564-0.j 0.01101463-0.j\n",
      " 0.00995726-0.j 0.0108429 -0.j 0.01042311-0.j 0.01050349-0.j\n",
      " 0.01082011-0.j 0.01053085-0.j 0.01013434-0.j 0.0120465 -0.j\n",
      " 0.01051961-0.j 0.01176158-0.j 0.01049602-0.j 0.01059754-0.j\n",
      " 0.01032602-0.j] \n",
      "\n",
      "NORMALISATION TEST:\n",
      "(1+0j)\n",
      "\n",
      "FORMATTED VECTOR:\n",
      "(0.013536168250393723-0j)\n",
      "(0.010617483868584668-0j)\n",
      "(0.010350920780631167-0j)\n",
      "(0.011041130183901928-0j)\n",
      "(0.010523259106870393-0j)\n",
      "(0.01188468617792059-0j)\n",
      "(0.010022450612588364-0j)\n",
      "(0.010314486898227155-0j)\n",
      "(0.011826666513123026-0j)\n",
      "(0.010215924772345099-0j)\n",
      "(0.010120331634992503-0j)\n",
      "(0.010068326048703315-0j)\n",
      "(0.009884443872579191-0j)\n",
      "(0.010149881271764442-0j)\n",
      "(0.010102439155899787-0j)\n",
      "(0.010802255498847784-0j)\n",
      "(0.011588239717063444-0j)\n",
      "(0.010106503488538905-0j)\n",
      "(0.0106107146836831-0j)\n",
      "(0.010398628346314068-0j)\n",
      "(0.010349889536897363-0j)\n",
      "(0.010612317901589917-0j)\n",
      "(0.010268454956172323-0j)\n",
      "(0.010696080187522078-0j)\n",
      "(0.009835030065146572-0j)\n",
      "(0.011558141138584747-0j)\n",
      "(0.010825118200083873-0j)\n",
      "(0.011476397350230573-0j)\n",
      "(0.01043246724693024-0j)\n",
      "(0.010713331735318849-0j)\n",
      "(0.010453409137290691-0j)\n",
      "(0.010522117013617997-0j)\n",
      "(0.009968725891909135-0j)\n",
      "(0.011909107762808017-0j)\n",
      "(0.012713237966476587-0j)\n",
      "(0.010163676299272222-0j)\n",
      "(0.011724058975285256-0j)\n",
      "(0.009994219873304679-0j)\n",
      "(0.01045752623088987-0j)\n",
      "(0.010696519637734768-0j)\n",
      "(0.011613538424591573-0j)\n",
      "(0.010928612569261389-0j)\n",
      "(0.009857338118483135-0j)\n",
      "(0.010690723352670448-0j)\n",
      "(0.011316824805000182-0j)\n",
      "(0.01045157649748511-0j)\n",
      "(0.010287387543337509-0j)\n",
      "(0.010213888310235404-0j)\n",
      "(0.011448666269064977-0j)\n",
      "(0.010624770864804822-0j)\n",
      "(0.011817909284220711-0j)\n",
      "(0.010627605291838734-0j)\n",
      "(0.010822684241898346-0j)\n",
      "(0.010980411640741055-0j)\n",
      "(0.010754650467283402-0j)\n",
      "(0.01066789031258791-0j)\n",
      "(0.010637245728130351-0j)\n",
      "(0.011595818366957875-0j)\n",
      "(0.010218212462031811-0j)\n",
      "(0.010618012649162224-0j)\n",
      "(0.010582492214761782-0j)\n",
      "(0.01053078518686813-0j)\n",
      "(0.010098156677176404-0j)\n",
      "(0.009954072713156925-0j)\n",
      "(0.010593571186078928-0j)\n",
      "(0.010131152964427653-0j)\n",
      "(0.013085585380475634-0j)\n",
      "(0.010594974894763997-0j)\n",
      "(0.010316275765448427-0j)\n",
      "(0.009955364722846721-0j)\n",
      "(0.012151346209255495-0j)\n",
      "(0.010439747652120258-0j)\n",
      "(0.009982685142608071-0j)\n",
      "(0.011268347818556004-0j)\n",
      "(0.01004523300488194-0j)\n",
      "(0.011041010240745644-0j)\n",
      "(0.010760585381567933-0j)\n",
      "(0.012020480385893456-0j)\n",
      "(0.010765643808903625-0j)\n",
      "(0.011014633474422813-0j)\n",
      "(0.00995725958651961-0j)\n",
      "(0.010842898288385128-0j)\n",
      "(0.010423105865102356-0j)\n",
      "(0.010503492090140681-0j)\n",
      "(0.010820107345024485-0j)\n",
      "(0.010530845278929573-0j)\n",
      "(0.010134341658048327-0j)\n",
      "(0.012046500097995646-0j)\n",
      "(0.010519613497581544-0j)\n",
      "(0.011761575952372507-0j)\n",
      "(0.010496018614494715-0j)\n",
      "(0.0105975440340488-0j)\n",
      "(0.010326017676571387-0j)\n",
      "\n",
      "\n"
     ]
    }
   ],
   "source": [
    "eA = e_vcA[:,0]\n",
    "e_nA = normalize(eA)\n",
    "norm_inf(e_nA)"
   ]
  },
  {
   "cell_type": "code",
   "execution_count": 84,
   "metadata": {},
   "outputs": [
    {
     "name": "stdout",
     "output_type": "stream",
     "text": [
      "['Blue Whale', 'Ant', 'Donkey', 'Squirrel', 'Rook', 'Grouse', 'Fowl', 'Gerbil', 'Carp', 'Albatross']\n",
      "Blue Whale\n",
      "Ant\n",
      "Donkey\n",
      "Squirrel\n",
      "Rook\n",
      "Grouse\n",
      "Fowl\n",
      "Gerbil\n",
      "Carp\n",
      "Albatross\n"
     ]
    }
   ],
   "source": [
    "def top_ten(e_nA):\n",
    "    ## copy array to temp array so we don't accidentally change values in eigenvector\n",
    "    temp = []\n",
    "    for i in range(len(e_nA)):\n",
    "        temp.append(e_nA[i])\n",
    "\n",
    "    ## array of max values\n",
    "    maxes = []\n",
    "\n",
    "    ## loop through 10 times finding max val in array, and copying\n",
    "    for i in range(10):\n",
    "\n",
    "        ## find max val and index of max val\n",
    "        max = np.amax(temp)\n",
    "        ind = np.where(temp == max)[0]\n",
    "\n",
    "        ## find the associated animal in ll\n",
    "        animal = ll[int(ind)]\n",
    "\n",
    "        ## set index in temp to zero so that it doesn't find the same max twice\n",
    "        temp[int(ind)] = 0\n",
    "        \n",
    "        ## put the animal in the aray maxes\n",
    "        maxes.append(animal)\n",
    "        \n",
    "    ## print the array out nicely\n",
    "    print(maxes)\n",
    "    for i in range(len(maxes)):\n",
    "        print(maxes[i])\n",
    "\n",
    "        \n",
    "top_ten(e_nA)"
   ]
  },
  {
   "cell_type": "markdown",
   "metadata": {},
   "source": [
    "Now we try and find the same thing but with the power iteration method."
   ]
  },
  {
   "cell_type": "code",
   "execution_count": 82,
   "metadata": {},
   "outputs": [
    {
     "name": "stdout",
     "output_type": "stream",
     "text": [
      "Blue Whale\n",
      "Ant\n",
      "Donkey\n",
      "Squirrel\n",
      "Rook\n",
      "Grouse\n",
      "Fowl\n",
      "Gerbil\n",
      "Carp\n",
      "Albatross\n"
     ]
    }
   ],
   "source": [
    "A_aa = (np.linalg.matrix_power(A_a, 200))\n",
    "top_ten(A_aa[:,0])"
   ]
  },
  {
   "cell_type": "markdown",
   "metadata": {},
   "source": []
  }
 ],
 "metadata": {
  "kernelspec": {
   "display_name": "Python 3.9.12 ('base')",
   "language": "python",
   "name": "python3"
  },
  "language_info": {
   "codemirror_mode": {
    "name": "ipython",
    "version": 3
   },
   "file_extension": ".py",
   "mimetype": "text/x-python",
   "name": "python",
   "nbconvert_exporter": "python",
   "pygments_lexer": "ipython3",
   "version": "3.9.12"
  },
  "orig_nbformat": 4,
  "vscode": {
   "interpreter": {
    "hash": "b66f734ac159939b27868506697e977ae65be9392b35aa099cd44adcf5e6243b"
   }
  }
 },
 "nbformat": 4,
 "nbformat_minor": 2
}
