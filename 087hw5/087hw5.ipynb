{
 "cells": [
  {
   "cell_type": "code",
   "execution_count": 4,
   "metadata": {},
   "outputs": [],
   "source": [
    "class Drunkard:\n",
    "    def __init__(self, pos=0):\n",
    "        self.pos = pos\n",
    "    \n",
    "    def change_pos(self, c):\n",
    "        self.pos = c + self.pos"
   ]
  },
  {
   "cell_type": "code",
   "execution_count": 5,
   "metadata": {},
   "outputs": [
    {
     "name": "stdout",
     "output_type": "stream",
     "text": [
      "[0, 0, 0, 0, 0, 10000000, 0, 0, 0, 0, 0]\n",
      "[0, 0, 0, 0, 2502111, 4998372, 2499517, 0, 0, 0, 0]\n",
      "[0, 0, 0, 625291, 2499830, 3749526, 2500203, 625150, 0, 0, 0]\n",
      "[0, 0, 157109, 936547, 2341073, 3126763, 2344426, 937647, 156435, 0, 0]\n",
      "[0, 39175, 313013, 1093375, 2186661, 2733662, 2188355, 1094604, 312085, 39070, 0]\n",
      "[9922, 97860, 439980, 1172747, 2049905, 2460308, 2049664, 1171740, 440379, 97812, 9683]\n",
      "\n",
      "**probabilities:\n",
      "[0, 0, 0, 0, 0, 0, 0, 0, 0, 0, 0]\n"
     ]
    }
   ],
   "source": [
    "import random\n",
    "d1 = Drunkard()\n",
    "\n",
    "moves = [0, 0, 1, -1]\n",
    "\n",
    "n = 10000000\n",
    "\n",
    "drunkards = []\n",
    "for i in range(n):\n",
    "    d = Drunkard()\n",
    "    drunkards.append(d)\n",
    "\n",
    "def change_all(drunks):\n",
    "    for i in range(len(drunks)):\n",
    "        drunks[i].change_pos(moves[random.randint(0,3)])\n",
    "        #print(drunks[i].pos)\n",
    "\n",
    "def print_pos(drunks):\n",
    "    positions = []\n",
    "    for i in range(len(drunks)):\n",
    "        positions.append(drunks[i].pos)\n",
    "\n",
    "    print(\"**pos: \")\n",
    "    print(positions)\n",
    "\n",
    "def position_count(drunks):\n",
    "    vals =   [-5, -4, -3, -2, -1, 0, 1, 2, 3, 4, 5]\n",
    "    vals_R = [ 0,  0,  0,  0,  0, 0, 0, 0, 0, 0, 0]\n",
    "    for i in range(len(drunkards)):\n",
    "        for j in range(len(vals)):\n",
    "            if vals[j] == drunkards[i].pos:\n",
    "                vals_R[j] = vals_R[j] + 1\n",
    "\n",
    "    print(vals_R)\n",
    "    return vals_R\n",
    "\n",
    "def probability(a):\n",
    "    probs = []\n",
    "    for i in range(len(a)):\n",
    "        probs.append(a[i] / n)\n",
    "    return probs\n",
    "    #print(probs)\n",
    "        \n",
    "# for i in range(len(drunkards)):\n",
    "#     print(drunkards[i].pos)\n",
    "\n",
    "\n",
    "## start\n",
    "position_count(drunkards)\n",
    "\n",
    "## step 1\n",
    "change_all(drunkards)\n",
    "a = position_count(drunkards)\n",
    "\n",
    "## step 2\n",
    "change_all(drunkards)\n",
    "b = position_count(drunkards)\n",
    "\n",
    "## step 3\n",
    "change_all(drunkards)\n",
    "c = position_count(drunkards)\n",
    "\n",
    "## step 4\n",
    "change_all(drunkards)\n",
    "d = position_count(drunkards)\n",
    "\n",
    "## step 5\n",
    "change_all(drunkards)\n",
    "e = position_count(drunkards)\n",
    "\n",
    "print()\n",
    "print(\"**probabilities:\")\n",
    "print([ 0,  0,  0,  0,  0, 0, 0, 0, 0, 0, 0])\n",
    "a_p=probability(a)\n",
    "b_p=probability(b)\n",
    "c_p=probability(c)\n",
    "d_p=probability(d)\n",
    "e_p=probability(e)\n",
    "\n",
    "\n"
   ]
  },
  {
   "cell_type": "code",
   "execution_count": 6,
   "metadata": {},
   "outputs": [
    {
     "name": "stdout",
     "output_type": "stream",
     "text": [
      "**position counts:\n",
      "-5\t-4\t-3\t-2\t -1\t 0\t 1\t2\t3\t4\t5\n",
      "-----------------------------------------------------------------------------------\n",
      "0\t0\t0\t0\t2502111\t4998372\t2499517\t0\t0\t0\t0\n",
      "0\t0\t0\t625291\t2499830\t3749526\t2500203\t625150\t0\t0\t0\n",
      "0\t0\t157109\t936547\t2341073\t3126763\t2344426\t937647\t156435\t0\t0\n",
      "0\t39175\t313013\t1093375\t2186661\t2733662\t2188355\t1094604\t312085\t39070\t0\n",
      "9922\t97860\t439980\t1172747\t2049905\t2460308\t2049664\t1171740\t440379\t97812\t9683\n",
      "\n",
      "-5\t-4\t-3\t-2\t -1\t 0\t 1\t2\t3\t4\t5\n",
      "-----------------------------------------------------------------------------------\n",
      "0.0\t0.0\t0.0\t0.0\t0.2502111\t0.4998372\t0.2499517\t0.0\t0.0\t0.0\t0.0\n",
      "0.0\t0.0\t0.0\t0.0625291\t0.249983\t0.3749526\t0.2500203\t0.062515\t0.0\t0.0\t0.0\n",
      "0.0\t0.0\t0.0157109\t0.0936547\t0.2341073\t0.3126763\t0.2344426\t0.0937647\t0.0156435\t0.0\t0.0\n",
      "0.0\t0.0039175\t0.0313013\t0.1093375\t0.2186661\t0.2733662\t0.2188355\t0.1094604\t0.0312085\t0.003907\t0.0\n",
      "0.0009922\t0.009786\t0.043998\t0.1172747\t0.2049905\t0.2460308\t0.2049664\t0.117174\t0.0440379\t0.0097812\t0.0009683\n",
      "\n"
     ]
    }
   ],
   "source": [
    "print(\"**position counts:\")\n",
    "\n",
    "\n",
    "def printy(a, b, c, d, e):\n",
    "    print(\"-5\\t-4\\t-3\\t-2\\t -1\\t 0\\t 1\\t2\\t3\\t4\\t5\")\n",
    "    print(\"-----------------------------------------------------------------------------------\")\n",
    "    print(*a, sep='\\t')    \n",
    "    print(*b, sep='\\t')\n",
    "    print(*c, sep='\\t')\n",
    "    print(*d, sep='\\t')\n",
    "    print(*e, sep='\\t')\n",
    "    print()\n",
    "\n",
    "\n",
    "printy(a,b,c,d,e)\n",
    "printy(a_p,b_p,c_p,d_p,e_p)\n"
   ]
  },
  {
   "cell_type": "code",
   "execution_count": 7,
   "metadata": {},
   "outputs": [
    {
     "name": "stdout",
     "output_type": "stream",
     "text": [
      "-5\t-4\t-3\t-2\t -1\t 0\t 1\t2\t3\t4\t5\n",
      "-----------------------------------------------------------------------------------\n",
      "0\t0\t0\t0\t1/4\t1/2\t1/4\t0\t0\t0\t0\n",
      "0\t0\t0\t1/16\t1/4\t3/8\t1/4\t1/16\t0\t0\t0\n",
      "0\t0\t2/127\t3/32\t11/47\t5/16\t15/64\t3/32\t1/64\t0\t0\n",
      "0\t1/128\t1/32\t7/64\t7/32\t35/128\t7/32\t7/64\t1/32\t1/128\t0\n",
      "0\t1/102\t4/91\t15/128\t25/122\t31/126\t25/122\t15/128\t3/68\t1/102\t0\n",
      "\n"
     ]
    }
   ],
   "source": [
    "from fractions import Fraction\n",
    "\n",
    "max_den=128\n",
    "\n",
    "def turn_frac(a):\n",
    "    frac = []\n",
    "    for i in range(len(a)):\n",
    "        frac.append(str(Fraction(a[i],).limit_denominator(max_denominator=max_den)))\n",
    "\n",
    "    return frac\n",
    "\n",
    "frac_a=turn_frac(a_p)\n",
    "frac_b=turn_frac(b_p)\n",
    "frac_c=turn_frac(c_p)\n",
    "frac_d=turn_frac(d_p)\n",
    "frac_e=turn_frac(e_p)\n",
    "printy(frac_a,frac_b,frac_c,frac_d,frac_e)\n"
   ]
  },
  {
   "cell_type": "code",
   "execution_count": 16,
   "metadata": {},
   "outputs": [
    {
     "name": "stdout",
     "output_type": "stream",
     "text": [
      "0.5001628\n",
      "0.5000032999999999\n",
      "0.49990429999999997\n",
      "0.5000114\n",
      "0.4999533\n"
     ]
    }
   ],
   "source": [
    "vals =   [-5, -4, -3, -2, -1, 0, 1, 2, 3, 4, 5]\n",
    "\n",
    "def sum_odd(a):\n",
    "    sum = 0\n",
    "    for i in range(len(a)):\n",
    "        if vals[i] % 2 != 0:\n",
    "            sum = sum + a[i]\n",
    "    return sum\n",
    "\n",
    "print(sum_odd(a_p))\n",
    "print(sum_odd(b_p))\n",
    "print(sum_odd(c_p))\n",
    "print(sum_odd(d_p))\n",
    "print(sum_odd(e_p))"
   ]
  },
  {
   "cell_type": "code",
   "execution_count": null,
   "metadata": {},
   "outputs": [],
   "source": []
  }
 ],
 "metadata": {
  "kernelspec": {
   "display_name": "Python 3.9.12 ('base')",
   "language": "python",
   "name": "python3"
  },
  "language_info": {
   "codemirror_mode": {
    "name": "ipython",
    "version": 3
   },
   "file_extension": ".py",
   "mimetype": "text/x-python",
   "name": "python",
   "nbconvert_exporter": "python",
   "pygments_lexer": "ipython3",
   "version": "3.9.12"
  },
  "orig_nbformat": 4,
  "vscode": {
   "interpreter": {
    "hash": "b66f734ac159939b27868506697e977ae65be9392b35aa099cd44adcf5e6243b"
   }
  }
 },
 "nbformat": 4,
 "nbformat_minor": 2
}
