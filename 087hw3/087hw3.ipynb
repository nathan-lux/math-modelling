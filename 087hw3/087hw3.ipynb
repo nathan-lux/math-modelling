{
 "cells": [
  {
   "cell_type": "markdown",
   "metadata": {},
   "source": [
    "# Homework 3"
   ]
  },
  {
   "cell_type": "markdown",
   "metadata": {},
   "source": [
    "## Problem 1"
   ]
  },
  {
   "cell_type": "markdown",
   "metadata": {},
   "source": [
    "We know that we want to find the dual linear program for this problem, but\n",
    "first, we will find the primal linear program, and then convert it to the dual."
   ]
  },
  {
   "cell_type": "code",
   "execution_count": 1,
   "metadata": {},
   "outputs": [
    {
     "name": "stdout",
     "output_type": "stream",
     "text": [
      "     con: array([], dtype=float64)\n",
      "     fun: -49.285714264563836\n",
      " message: 'Optimization terminated successfully.'\n",
      "     nit: 4\n",
      "   slack: array([3.04286907e-09, 2.56025317e-08])\n",
      "  status: 0\n",
      " success: True\n",
      "       x: array([3.57142857, 3.42857143])\n"
     ]
    }
   ],
   "source": [
    "from scipy.optimize import linprog\n",
    "import numpy as np\n",
    "\n",
    "A = np.array([[1, 1],\n",
    "              [12,5]])\n",
    "\n",
    "b = np.array([7, 60])\n",
    "\n",
    "c = np.array([9,5])\n",
    "\n",
    "res = linprog(-1*c, A_ub=A, b_ub=b)\n",
    "x = res.x\n",
    "print(res)"
   ]
  },
  {
   "cell_type": "markdown",
   "metadata": {},
   "source": [
    "Now we can go ahead an try converting this into a dual linear program"
   ]
  },
  {
   "cell_type": "code",
   "execution_count": 2,
   "metadata": {},
   "outputs": [
    {
     "name": "stdout",
     "output_type": "stream",
     "text": [
      "     con: array([], dtype=float64)\n",
      "     fun: 49.28571429146943\n",
      " message: 'Optimization terminated successfully.'\n",
      "     nit: 4\n",
      "   slack: array([1.51047885e-09, 1.05167430e-10])\n",
      "  status: 0\n",
      " success: True\n",
      "       x: array([2.14285714, 0.57142857])\n"
     ]
    }
   ],
   "source": [
    "res_dual = linprog(b,A_ub = (-1)*A.T,b_ub = (-1)*c)\n",
    "y = res_dual.x\n",
    "print(res_dual)"
   ]
  },
  {
   "cell_type": "markdown",
   "metadata": {},
   "source": [
    "### Dual prices are x"
   ]
  },
  {
   "cell_type": "markdown",
   "metadata": {},
   "source": [
    "This is clearly done rather quickly in python, but we can also plot the feasible\n",
    "region of the standard lin prog as well as the dual lin prog to see if our\n",
    "maximal and minimal values make any sense."
   ]
  },
  {
   "cell_type": "code",
   "execution_count": 3,
   "metadata": {},
   "outputs": [],
   "source": [
    "%matplotlib notebook\n",
    "%matplotlib inline\n",
    "import matplotlib.pyplot as plt\n",
    "\n",
    "def plot_primal():\n",
    "    plt.rcParams.update({'font.size': 19})\n",
    "\n",
    "    d = np.linspace(-2,20,1000)\n",
    "    x,y = np.meshgrid(d,d)\n",
    "\n",
    "    pl = plt.figure(figsize=(10,10))\n",
    "    ax = plt.axes()\n",
    "\n",
    "    ax.imshow(((x >= 0) & (y >= 0) & (x + y <= 7) & (12*x + 5*y <= 60)).astype(int),\n",
    "            extent    = (x.min(),x.max(),y.min(),y.max()),\n",
    "            origin    = \"lower\", \n",
    "            cmap      = \"Reds\", \n",
    "            alpha     =  0.2,\n",
    "            aspect    = \"auto\")\n",
    "\n",
    "    # plot the lines defining the constraints\n",
    "    x = np.arange(-2, 30, .1)\n",
    "    ax.plot(x, 7 - x, label = \"B + R <= 7\")\n",
    "    ax.plot(x, (60 - 12*x)/5,  label = \"12B + 5R <= 60\")\n",
    "\n",
    "    ax.axhline(y=0, color = \"black\")\n",
    "    ax.axvline(x=0, color = \"black\")\n",
    "    ax.set_ylim(ymin=-5.0, ymax=25.5)\n",
    "\n",
    "    ax.legend()\n",
    "    ax.set_title(\"Feasible Region (Primal)\")\n",
    "    ax.set_xlabel(\"Gallons of Beans\")\n",
    "    ax.set_ylabel(\"Gallons of Rice\")\n",
    "\n",
    "    def ann_pt(x,y):\n",
    "        s = f\"({x},{y})\"\n",
    "        ax.annotate(s,xy=(x,y),xytext=(5,5),textcoords='offset points')\n",
    "\n",
    "    ax.scatter(3.57, 3.42,s=100,color=\"blue\")\n",
    "    ann_pt(3.57, 3.42)\n"
   ]
  },
  {
   "cell_type": "code",
   "execution_count": 4,
   "metadata": {},
   "outputs": [],
   "source": [
    "def plot_dual():\n",
    "    plt.rcParams.update({'font.size': 19})\n",
    "\n",
    "    d = np.linspace(-1,35,1500)\n",
    "    x,y = np.meshgrid(d,d)\n",
    "\n",
    "    pl = plt.figure(figsize=(10,10))\n",
    "    ax = plt.axes()\n",
    "\n",
    "    ax.imshow(((x >= 0) & (y >= 0) & (x + 12*y >= 9) & (x + 5*y >= 5)).astype(int),\n",
    "            extent    = (x.min(),x.max(),y.min(),y.max()),\n",
    "            origin    = \"lower\", \n",
    "            cmap      = \"Reds\", \n",
    "            alpha     =  0.2,\n",
    "            aspect    = \"auto\")\n",
    "\n",
    "    # plot the lines defining the constraints\n",
    "    x = np.arange(-2, 30, .1)\n",
    "    ax.plot(x, (5 - x)/5, label = \"y1 + 12y2 >= 5\")\n",
    "    ax.plot(x, (9 - x)/12,  label = \"y1 + 5y2 >= 9\")\n",
    "\n",
    "    ax.axhline(y=0, color = \"black\")\n",
    "    ax.axvline(x=0, color = \"black\")\n",
    "    ax.set_ylim(ymin=-1, ymax=5)\n",
    "\n",
    "    ax.legend()\n",
    "    ax.set_title(\"Feasible Region (Dual)\")\n",
    "    ax.set_xlabel(\"Gallons of Beans\")\n",
    "    ax.set_ylabel(\"Gallons of Rice\")\n",
    "\n",
    "    def ann_pt(x,y):\n",
    "        s = f\"({x},{y})\"\n",
    "        ax.annotate(s, xy = (x,y), xytext = (5,5), textcoords = 'offset points')\n",
    "\n",
    "    ax.scatter(2.1428, .5714,s = 60, color = \"blue\")\n",
    "    ann_pt(2.1428, 0.5714)\n"
   ]
  },
  {
   "cell_type": "code",
   "execution_count": 5,
   "metadata": {},
   "outputs": [
    {
     "data": {
      "image/png": "[encoded data removed]",
      "text/plain": [
       "<Figure size 720x720 with 1 Axes>"
      ]
     },
     "metadata": {
      "needs_background": "light"
     },
     "output_type": "display_data"
    },
    {
     "data": {
      "image/png": "[encoded data removed]",
      "text/plain": [
       "<Figure size 720x720 with 1 Axes>"
      ]
     },
     "metadata": {
      "needs_background": "light"
     },
     "output_type": "display_data"
    }
   ],
   "source": [
    "plot_primal()\n",
    "plot_dual()"
   ]
  },
  {
   "cell_type": "markdown",
   "metadata": {},
   "source": [
    "We now conern ourselves with whether or not strong duality is obeyed in this\n",
    "circumstance. We know that strong duality dictates the following be true. <br>\n",
    "$$ cx^*= b^T y^* $$\n",
    "For c being the primal objective function, $b^T$ being the dual objective\n",
    "function and $x^*, y^*$ being the optimal values in the primal and dual space\n",
    "respectively. We can quickly check this via..."
   ]
  },
  {
   "cell_type": "code",
   "execution_count": 6,
   "metadata": {},
   "outputs": [
    {
     "name": "stdout",
     "output_type": "stream",
     "text": [
      "49.285714264563836\n",
      "49.28571429146943\n"
     ]
    }
   ],
   "source": [
    "print(np.matmul(x,   c))\n",
    "print(np.matmul(b.T, y))"
   ]
  },
  {
   "cell_type": "markdown",
   "metadata": {},
   "source": [
    "Thus we can see that strong duality holds <br>\n",
    "Another value of interest is the complementary slackness. We know that $x^*$ and\n",
    "$y^*$ is only optimal if... <br>\n",
    "$$ (b-Ax)^T \\cdot y = 0 $$ \n",
    "and \n",
    "$$ (y^T A - c) \\cdot x = 0 $$\n",
    "hold. We can test this in the following way..."
   ]
  },
  {
   "cell_type": "code",
   "execution_count": 7,
   "metadata": {},
   "outputs": [
    {
     "name": "stdout",
     "output_type": "stream",
     "text": [
      "2.1150451805057904e-08\n",
      "5.7551413769274575e-09\n"
     ]
    }
   ],
   "source": [
    "print(np.matmul((b - np.matmul(A,x)),y).T)\n",
    "print(np.matmul((np.matmul(y.T, A) - c), x))"
   ]
  },
  {
   "cell_type": "markdown",
   "metadata": {},
   "source": [
    "Both of these are sufficiently close to 0 to be within computational error"
   ]
  },
  {
   "cell_type": "markdown",
   "metadata": {},
   "source": [
    "### Part c"
   ]
  },
  {
   "cell_type": "markdown",
   "metadata": {},
   "source": [
    "We now want to know about how the dual price changes the primal objective\n",
    "function under certain changes to the problem. <br>\n",
    "Basically, I think we are just going to run the linprog over and over again\n",
    "under the condition that the barrel holds either 1, 2, 4, or 6 gallons of food\n",
    "and see if the dual price lemma is accurate and up to what degree."
   ]
  },
  {
   "cell_type": "code",
   "execution_count": 8,
   "metadata": {},
   "outputs": [
    {
     "name": "stdout",
     "output_type": "stream",
     "text": [
      "LINPROG C = 1\n",
      "   PRIMAL:\n",
      "     con: array([], dtype=float64)\n",
      "     fun: -8.99999999419209\n",
      " message: 'Optimization terminated successfully.'\n",
      "     nit: 5\n",
      "   slack: array([-6.97772062e-10,  4.80000000e+01])\n",
      "  status: 0\n",
      " success: True\n",
      "       x: array([9.99999998e-01, 3.02196511e-09])\n",
      "   DUAL:\n",
      "     con: array([], dtype=float64)\n",
      "     fun: 9.000000031983706\n",
      " message: 'Optimization terminated successfully.'\n",
      "     nit: 5\n",
      "   slack: array([1.52902402e-08, 4.00000001e+00])\n",
      "  status: 0\n",
      " success: True\n",
      "       x: array([9.00000001e+00, 3.47780528e-10])\n",
      "\n",
      "LINPROG C = 2\n",
      "   PRIMAL:\n",
      "     con: array([], dtype=float64)\n",
      "     fun: -17.999999996728942\n",
      " message: 'Optimization terminated successfully.'\n",
      "     nit: 5\n",
      "   slack: array([2.35272024e-10, 3.60000000e+01])\n",
      "  status: 0\n",
      " success: True\n",
      "       x: array([2.00000000e+00, 2.88401694e-10])\n",
      "   DUAL:\n",
      "     con: array([], dtype=float64)\n",
      "     fun: 18.000000003843184\n",
      " message: 'Optimization terminated successfully.'\n",
      "     nit: 5\n",
      "   slack: array([8.14305068e-10, 4.00000000e+00])\n",
      "  status: 0\n",
      " success: True\n",
      "       x: array([9.0000000e+00, 6.1515882e-11])\n",
      "\n",
      "LINPROG C = 4\n",
      "   PRIMAL:\n",
      "     con: array([], dtype=float64)\n",
      "     fun: -35.999999526717055\n",
      " message: 'Optimization terminated successfully.'\n",
      "     nit: 4\n",
      "   slack: array([2.18904948e-08, 1.20000007e+01])\n",
      "  status: 0\n",
      " success: True\n",
      "       x: array([3.99999991e+00, 6.90671226e-08])\n",
      "   DUAL:\n",
      "     con: array([], dtype=float64)\n",
      "     fun: 36.00000000001506\n",
      " message: 'Optimization terminated successfully.'\n",
      "     nit: 5\n",
      "   slack: array([2.84039459e-12, 4.00000000e+00])\n",
      "  status: 0\n",
      " success: True\n",
      "       x: array([9.00000000e+00, 3.08570328e-13])\n",
      "\n",
      "LINPROG C = 6\n",
      "   PRIMAL:\n",
      "     con: array([], dtype=float64)\n",
      "     fun: -47.14285714227816\n",
      " message: 'Optimization terminated successfully.'\n",
      "     nit: 4\n",
      "   slack: array([5.27897726e-11, 8.15255419e-10])\n",
      "  status: 0\n",
      " success: True\n",
      "       x: array([4.28571429, 1.71428571])\n",
      "   DUAL:\n",
      "     con: array([], dtype=float64)\n",
      "     fun: 47.142857143163724\n",
      " message: 'Optimization terminated successfully.'\n",
      "     nit: 4\n",
      "   slack: array([6.36593001e-11, 1.96882510e-11])\n",
      "  status: 0\n",
      " success: True\n",
      "       x: array([2.14285714, 0.57142857])\n",
      "\n"
     ]
    }
   ],
   "source": [
    "def run_lin(brl):\n",
    "    A = np.array([[1, 1],\n",
    "                  [12,5]])\n",
    "\n",
    "    b = np.array([brl, 60])\n",
    "\n",
    "    c = np.array([9,5])\n",
    "\n",
    "    prim_res = linprog(-1*c, A_ub=A, b_ub=b)\n",
    "    dual_res = linprog(b, A_ub = (-1)*A.T, b_ub = (-1)*c)\n",
    "    return [prim_res, dual_res]\n",
    "\n",
    "def print_linprog(progs, num):\n",
    "    print(\"LINPROG C =\", num)\n",
    "    print(\"   PRIMAL:\")\n",
    "    print(progs[0])\n",
    "    print(\"   DUAL:\")\n",
    "    print(progs[1])\n",
    "    print()\n",
    "\n",
    "vals = [1, 2, 4, 6]\n",
    "\n",
    "for i in vals:\n",
    "    print_linprog(run_lin(i), i)\n"
   ]
  },
  {
   "cell_type": "markdown",
   "metadata": {},
   "source": [
    "# Problem 2"
   ]
  },
  {
   "cell_type": "code",
   "execution_count": 9,
   "metadata": {},
   "outputs": [
    {
     "name": "stdout",
     "output_type": "stream",
     "text": [
      "     con: array([], dtype=float64)\n",
      "     fun: -13512.872821836372\n",
      " message: 'Optimization terminated successfully.'\n",
      "     nit: 7\n",
      "   slack: array([-5.51314997e-07,  2.02309991e-09,  4.16268921e-03,  9.99999981e-01,\n",
      "       -6.68920319e-09,  2.77189610e-02])\n",
      "  status: 0\n",
      " success: True\n",
      "       x: array([9.95837311e-01, 1.86580741e-08, 1.00000001e+00, 9.72281039e-01])\n"
     ]
    }
   ],
   "source": [
    "alpha = np.array([[  24,  76,  43, 754],\n",
    "                  [75.5, 2.7, 3.3, 6.7],\n",
    "                  [1, 0, 0, 0],\n",
    "                  [0, 1, 0, 0],\n",
    "                  [0, 0, 1, 0],\n",
    "                  [0, 0, 0, 1]])\n",
    "\n",
    "beta = np.array([[800, 85, 1, 1, 1, 1]])\n",
    "\n",
    "cat = np.array([4976, 524, 3457, 5246])\n",
    "\n",
    "res = linprog(-1*cat, A_ub = alpha, b_ub = beta)\n",
    "print(res)"
   ]
  },
  {
   "cell_type": "markdown",
   "metadata": {},
   "source": [
    "This gives us some idea of what the crates should look like in an integer\n",
    "programming setting. In order to maximize the profit, we should expect 1 crate\n",
    "of a, c, and d, and zero of b.<br>\n",
    "Now we look to integer linear programming."
   ]
  },
  {
   "cell_type": "code",
   "execution_count": 53,
   "metadata": {},
   "outputs": [
    {
     "name": "stdout",
     "output_type": "stream",
     "text": [
      "testing 0.9908, 0, 1, 0.9723\n",
      "\tfeasible: 13512.872821836372\n",
      "TESTING X2\n",
      "\tfeasible: 13512.872788934968\n",
      "\tinfeasible\n",
      "TESTING X1\n",
      "\tfeasible: 8557.586330460308\n",
      "\tinfeasible\n",
      "TESTING X4\n",
      "\tfeasible: 3457.0\n",
      "\tfeasible: 8703.0\n"
     ]
    }
   ],
   "source": [
    "### ATTEMPT ONE AT BRANCH AND BOUND\n",
    "def test_all(a, b, c, d):\n",
    "    mun = True\n",
    "    epsilon = 0.0001\n",
    "    weight = True\n",
    "\n",
    "    ## test monetary constraint\n",
    "    if(24.0*a + 76.0*b + 43.0*c + 754.0*d >= 800.0 + epsilon):\n",
    "        #print(\"set mun false:\", 24.0*a + 76.0*b + 43.0*c + 754.0*d)\n",
    "        mun = False\n",
    "\n",
    "    ## test weight constraint\n",
    "    if(75.5*a + 2.7*b + 3.3*c + 6.7*d >= 85.0 + epsilon):\n",
    "        #print(\"set weight false:\", 75.5*a + 2.7*b + 3.3*c + 6.7*d)\n",
    "        weight = False\n",
    "\n",
    "    ## val of objective function\n",
    "    val = 4976.0*a + 524.0*b + 3457.0*c + 5246.0*d\n",
    "\n",
    "    return [mun, weight, val]\n",
    "\n",
    "def f_report(vals):\n",
    "    if(vals[0] == False or vals[1] == False):\n",
    "        print(\"\\tinfeasible\")\n",
    "    else:\n",
    "        print(\"\\tfeasible:\", vals[2])\n",
    "\n",
    "\n",
    "# test of optimal values in linprog\n",
    "\n",
    "\n",
    "print(\"testing 0.9908, 0, 1, 0.9723\")\n",
    "f_report(test_all(res.x[0], res.x[1], res.x[2], res.x[3]))\n",
    "\n",
    "print(\"TESTING X2\") ## 1 infeasible, 0 feasible\n",
    "f_report(test_all(res.x[0], 0, 1, res.x[3]))\n",
    "f_report(test_all(res.x[0], 1, 1, res.x[3]))\n",
    "\n",
    "print(\"TESTING X1\") ## 1 infeasible, 0 feasible\n",
    "f_report(test_all(0, 0, 1, res.x[3]))\n",
    "f_report(test_all(1, 0, 1, res.x[3]))\n",
    "\n",
    "print(\"TESTING X4\")\n",
    "f_report(test_all(0, 0, 1, 0))\n",
    "f_report(test_all(0, 0, 1, 1))"
   ]
  },
  {
   "cell_type": "code",
   "execution_count": 57,
   "metadata": {},
   "outputs": [
    {
     "ename": "ExecutableNotFound",
     "evalue": "failed to execute WindowsPath('dot'), make sure the Graphviz executables are on your systems' PATH",
     "output_type": "error",
     "traceback": [
      "\u001b[1;31m---------------------------------------------------------------------------\u001b[0m",
      "\u001b[1;31mFileNotFoundError\u001b[0m                         Traceback (most recent call last)",
      "File \u001b[1;32mc:\\Users\\nburw\\anaconda3\\lib\\site-packages\\graphviz\\backend\\execute.py:79\u001b[0m, in \u001b[0;36mrun_check\u001b[1;34m(cmd, input_lines, encoding, quiet, **kwargs)\u001b[0m\n\u001b[0;32m     78\u001b[0m         kwargs[\u001b[39m'\u001b[39m\u001b[39mstdout\u001b[39m\u001b[39m'\u001b[39m] \u001b[39m=\u001b[39m kwargs[\u001b[39m'\u001b[39m\u001b[39mstderr\u001b[39m\u001b[39m'\u001b[39m] \u001b[39m=\u001b[39m subprocess\u001b[39m.\u001b[39mPIPE\n\u001b[1;32m---> 79\u001b[0m     proc \u001b[39m=\u001b[39m _run_input_lines(cmd, input_lines, kwargs\u001b[39m=\u001b[39;49mkwargs)\n\u001b[0;32m     80\u001b[0m \u001b[39melse\u001b[39;00m:\n",
      "File \u001b[1;32mc:\\Users\\nburw\\anaconda3\\lib\\site-packages\\graphviz\\backend\\execute.py:99\u001b[0m, in \u001b[0;36m_run_input_lines\u001b[1;34m(cmd, input_lines, kwargs)\u001b[0m\n\u001b[0;32m     98\u001b[0m \u001b[39mdef\u001b[39;00m \u001b[39m_run_input_lines\u001b[39m(cmd, input_lines, \u001b[39m*\u001b[39m, kwargs):\n\u001b[1;32m---> 99\u001b[0m     popen \u001b[39m=\u001b[39m subprocess\u001b[39m.\u001b[39mPopen(cmd, stdin\u001b[39m=\u001b[39msubprocess\u001b[39m.\u001b[39mPIPE, \u001b[39m*\u001b[39m\u001b[39m*\u001b[39mkwargs)\n\u001b[0;32m    101\u001b[0m     stdin_write \u001b[39m=\u001b[39m popen\u001b[39m.\u001b[39mstdin\u001b[39m.\u001b[39mwrite\n",
      "File \u001b[1;32mc:\\Users\\nburw\\anaconda3\\lib\\subprocess.py:951\u001b[0m, in \u001b[0;36mPopen.__init__\u001b[1;34m(self, args, bufsize, executable, stdin, stdout, stderr, preexec_fn, close_fds, shell, cwd, env, universal_newlines, startupinfo, creationflags, restore_signals, start_new_session, pass_fds, user, group, extra_groups, encoding, errors, text, umask)\u001b[0m\n\u001b[0;32m    948\u001b[0m             \u001b[39mself\u001b[39m\u001b[39m.\u001b[39mstderr \u001b[39m=\u001b[39m io\u001b[39m.\u001b[39mTextIOWrapper(\u001b[39mself\u001b[39m\u001b[39m.\u001b[39mstderr,\n\u001b[0;32m    949\u001b[0m                     encoding\u001b[39m=\u001b[39mencoding, errors\u001b[39m=\u001b[39merrors)\n\u001b[1;32m--> 951\u001b[0m     \u001b[39mself\u001b[39;49m\u001b[39m.\u001b[39;49m_execute_child(args, executable, preexec_fn, close_fds,\n\u001b[0;32m    952\u001b[0m                         pass_fds, cwd, env,\n\u001b[0;32m    953\u001b[0m                         startupinfo, creationflags, shell,\n\u001b[0;32m    954\u001b[0m                         p2cread, p2cwrite,\n\u001b[0;32m    955\u001b[0m                         c2pread, c2pwrite,\n\u001b[0;32m    956\u001b[0m                         errread, errwrite,\n\u001b[0;32m    957\u001b[0m                         restore_signals,\n\u001b[0;32m    958\u001b[0m                         gid, gids, uid, umask,\n\u001b[0;32m    959\u001b[0m                         start_new_session)\n\u001b[0;32m    960\u001b[0m \u001b[39mexcept\u001b[39;00m:\n\u001b[0;32m    961\u001b[0m     \u001b[39m# Cleanup if the child failed starting.\u001b[39;00m\n",
      "File \u001b[1;32mc:\\Users\\nburw\\anaconda3\\lib\\subprocess.py:1420\u001b[0m, in \u001b[0;36mPopen._execute_child\u001b[1;34m(self, args, executable, preexec_fn, close_fds, pass_fds, cwd, env, startupinfo, creationflags, shell, p2cread, p2cwrite, c2pread, c2pwrite, errread, errwrite, unused_restore_signals, unused_gid, unused_gids, unused_uid, unused_umask, unused_start_new_session)\u001b[0m\n\u001b[0;32m   1419\u001b[0m \u001b[39mtry\u001b[39;00m:\n\u001b[1;32m-> 1420\u001b[0m     hp, ht, pid, tid \u001b[39m=\u001b[39m _winapi\u001b[39m.\u001b[39;49mCreateProcess(executable, args,\n\u001b[0;32m   1421\u001b[0m                              \u001b[39m# no special security\u001b[39;49;00m\n\u001b[0;32m   1422\u001b[0m                              \u001b[39mNone\u001b[39;49;00m, \u001b[39mNone\u001b[39;49;00m,\n\u001b[0;32m   1423\u001b[0m                              \u001b[39mint\u001b[39;49m(\u001b[39mnot\u001b[39;49;00m close_fds),\n\u001b[0;32m   1424\u001b[0m                              creationflags,\n\u001b[0;32m   1425\u001b[0m                              env,\n\u001b[0;32m   1426\u001b[0m                              cwd,\n\u001b[0;32m   1427\u001b[0m                              startupinfo)\n\u001b[0;32m   1428\u001b[0m \u001b[39mfinally\u001b[39;00m:\n\u001b[0;32m   1429\u001b[0m     \u001b[39m# Child is launched. Close the parent's copy of those pipe\u001b[39;00m\n\u001b[0;32m   1430\u001b[0m     \u001b[39m# handles that only the child should have open.  You need\u001b[39;00m\n\u001b[1;32m   (...)\u001b[0m\n\u001b[0;32m   1433\u001b[0m     \u001b[39m# pipe will not close when the child process exits and the\u001b[39;00m\n\u001b[0;32m   1434\u001b[0m     \u001b[39m# ReadFile will hang.\u001b[39;00m\n",
      "\u001b[1;31mFileNotFoundError\u001b[0m: [WinError 2] The system cannot find the file specified",
      "\nThe above exception was the direct cause of the following exception:\n",
      "\u001b[1;31mExecutableNotFound\u001b[0m                        Traceback (most recent call last)",
      "File \u001b[1;32mc:\\Users\\nburw\\anaconda3\\lib\\site-packages\\IPython\\core\\formatters.py:973\u001b[0m, in \u001b[0;36mMimeBundleFormatter.__call__\u001b[1;34m(self, obj, include, exclude)\u001b[0m\n\u001b[0;32m    970\u001b[0m     method \u001b[39m=\u001b[39m get_real_method(obj, \u001b[39mself\u001b[39m\u001b[39m.\u001b[39mprint_method)\n\u001b[0;32m    972\u001b[0m     \u001b[39mif\u001b[39;00m method \u001b[39mis\u001b[39;00m \u001b[39mnot\u001b[39;00m \u001b[39mNone\u001b[39;00m:\n\u001b[1;32m--> 973\u001b[0m         \u001b[39mreturn\u001b[39;00m method(include\u001b[39m=\u001b[39;49minclude, exclude\u001b[39m=\u001b[39;49mexclude)\n\u001b[0;32m    974\u001b[0m     \u001b[39mreturn\u001b[39;00m \u001b[39mNone\u001b[39;00m\n\u001b[0;32m    975\u001b[0m \u001b[39melse\u001b[39;00m:\n",
      "File \u001b[1;32mc:\\Users\\nburw\\anaconda3\\lib\\site-packages\\graphviz\\jupyter_integration.py:98\u001b[0m, in \u001b[0;36mJupyterIntegration._repr_mimebundle_\u001b[1;34m(self, include, exclude, **_)\u001b[0m\n\u001b[0;32m     96\u001b[0m include \u001b[39m=\u001b[39m \u001b[39mset\u001b[39m(include) \u001b[39mif\u001b[39;00m include \u001b[39mis\u001b[39;00m \u001b[39mnot\u001b[39;00m \u001b[39mNone\u001b[39;00m \u001b[39melse\u001b[39;00m {\u001b[39mself\u001b[39m\u001b[39m.\u001b[39m_jupyter_mimetype}\n\u001b[0;32m     97\u001b[0m include \u001b[39m-\u001b[39m\u001b[39m=\u001b[39m \u001b[39mset\u001b[39m(exclude \u001b[39mor\u001b[39;00m [])\n\u001b[1;32m---> 98\u001b[0m \u001b[39mreturn\u001b[39;00m {mimetype: \u001b[39mgetattr\u001b[39m(\u001b[39mself\u001b[39m, method_name)()\n\u001b[0;32m     99\u001b[0m         \u001b[39mfor\u001b[39;00m mimetype, method_name \u001b[39min\u001b[39;00m MIME_TYPES\u001b[39m.\u001b[39mitems()\n\u001b[0;32m    100\u001b[0m         \u001b[39mif\u001b[39;00m mimetype \u001b[39min\u001b[39;00m include}\n",
      "File \u001b[1;32mc:\\Users\\nburw\\anaconda3\\lib\\site-packages\\graphviz\\jupyter_integration.py:98\u001b[0m, in \u001b[0;36m<dictcomp>\u001b[1;34m(.0)\u001b[0m\n\u001b[0;32m     96\u001b[0m include \u001b[39m=\u001b[39m \u001b[39mset\u001b[39m(include) \u001b[39mif\u001b[39;00m include \u001b[39mis\u001b[39;00m \u001b[39mnot\u001b[39;00m \u001b[39mNone\u001b[39;00m \u001b[39melse\u001b[39;00m {\u001b[39mself\u001b[39m\u001b[39m.\u001b[39m_jupyter_mimetype}\n\u001b[0;32m     97\u001b[0m include \u001b[39m-\u001b[39m\u001b[39m=\u001b[39m \u001b[39mset\u001b[39m(exclude \u001b[39mor\u001b[39;00m [])\n\u001b[1;32m---> 98\u001b[0m \u001b[39mreturn\u001b[39;00m {mimetype: \u001b[39mgetattr\u001b[39;49m(\u001b[39mself\u001b[39;49m, method_name)()\n\u001b[0;32m     99\u001b[0m         \u001b[39mfor\u001b[39;00m mimetype, method_name \u001b[39min\u001b[39;00m MIME_TYPES\u001b[39m.\u001b[39mitems()\n\u001b[0;32m    100\u001b[0m         \u001b[39mif\u001b[39;00m mimetype \u001b[39min\u001b[39;00m include}\n",
      "File \u001b[1;32mc:\\Users\\nburw\\anaconda3\\lib\\site-packages\\graphviz\\jupyter_integration.py:112\u001b[0m, in \u001b[0;36mJupyterIntegration._repr_image_svg_xml\u001b[1;34m(self)\u001b[0m\n\u001b[0;32m    110\u001b[0m \u001b[39mdef\u001b[39;00m \u001b[39m_repr_image_svg_xml\u001b[39m(\u001b[39mself\u001b[39m) \u001b[39m-\u001b[39m\u001b[39m>\u001b[39m \u001b[39mstr\u001b[39m:\n\u001b[0;32m    111\u001b[0m     \u001b[39m\"\"\"Return the rendered graph as SVG string.\"\"\"\u001b[39;00m\n\u001b[1;32m--> 112\u001b[0m     \u001b[39mreturn\u001b[39;00m \u001b[39mself\u001b[39;49m\u001b[39m.\u001b[39;49mpipe(\u001b[39mformat\u001b[39;49m\u001b[39m=\u001b[39;49m\u001b[39m'\u001b[39;49m\u001b[39msvg\u001b[39;49m\u001b[39m'\u001b[39;49m, encoding\u001b[39m=\u001b[39;49mSVG_ENCODING)\n",
      "File \u001b[1;32mc:\\Users\\nburw\\anaconda3\\lib\\site-packages\\graphviz\\piping.py:104\u001b[0m, in \u001b[0;36mPipe.pipe\u001b[1;34m(self, format, renderer, formatter, neato_no_op, quiet, engine, encoding)\u001b[0m\n\u001b[0;32m     55\u001b[0m \u001b[39mdef\u001b[39;00m \u001b[39mpipe\u001b[39m(\u001b[39mself\u001b[39m,\n\u001b[0;32m     56\u001b[0m          \u001b[39mformat\u001b[39m: typing\u001b[39m.\u001b[39mOptional[\u001b[39mstr\u001b[39m] \u001b[39m=\u001b[39m \u001b[39mNone\u001b[39;00m,\n\u001b[0;32m     57\u001b[0m          renderer: typing\u001b[39m.\u001b[39mOptional[\u001b[39mstr\u001b[39m] \u001b[39m=\u001b[39m \u001b[39mNone\u001b[39;00m,\n\u001b[1;32m   (...)\u001b[0m\n\u001b[0;32m     61\u001b[0m          engine: typing\u001b[39m.\u001b[39mOptional[\u001b[39mstr\u001b[39m] \u001b[39m=\u001b[39m \u001b[39mNone\u001b[39;00m,\n\u001b[0;32m     62\u001b[0m          encoding: typing\u001b[39m.\u001b[39mOptional[\u001b[39mstr\u001b[39m] \u001b[39m=\u001b[39m \u001b[39mNone\u001b[39;00m) \u001b[39m-\u001b[39m\u001b[39m>\u001b[39m typing\u001b[39m.\u001b[39mUnion[\u001b[39mbytes\u001b[39m, \u001b[39mstr\u001b[39m]:\n\u001b[0;32m     63\u001b[0m     \u001b[39m\"\"\"Return the source piped through the Graphviz layout command.\u001b[39;00m\n\u001b[0;32m     64\u001b[0m \n\u001b[0;32m     65\u001b[0m \u001b[39m    Args:\u001b[39;00m\n\u001b[1;32m   (...)\u001b[0m\n\u001b[0;32m    102\u001b[0m \u001b[39m        '<?xml version='\u001b[39;00m\n\u001b[0;32m    103\u001b[0m \u001b[39m    \"\"\"\u001b[39;00m\n\u001b[1;32m--> 104\u001b[0m     \u001b[39mreturn\u001b[39;00m \u001b[39mself\u001b[39;49m\u001b[39m.\u001b[39;49m_pipe_legacy(\u001b[39mformat\u001b[39;49m,\n\u001b[0;32m    105\u001b[0m                              renderer\u001b[39m=\u001b[39;49mrenderer,\n\u001b[0;32m    106\u001b[0m                              formatter\u001b[39m=\u001b[39;49mformatter,\n\u001b[0;32m    107\u001b[0m                              neato_no_op\u001b[39m=\u001b[39;49mneato_no_op,\n\u001b[0;32m    108\u001b[0m                              quiet\u001b[39m=\u001b[39;49mquiet,\n\u001b[0;32m    109\u001b[0m                              engine\u001b[39m=\u001b[39;49mengine,\n\u001b[0;32m    110\u001b[0m                              encoding\u001b[39m=\u001b[39;49mencoding)\n",
      "File \u001b[1;32mc:\\Users\\nburw\\anaconda3\\lib\\site-packages\\graphviz\\_tools.py:171\u001b[0m, in \u001b[0;36mdeprecate_positional_args.<locals>.decorator.<locals>.wrapper\u001b[1;34m(*args, **kwargs)\u001b[0m\n\u001b[0;32m    162\u001b[0m     wanted \u001b[39m=\u001b[39m \u001b[39m'\u001b[39m\u001b[39m, \u001b[39m\u001b[39m'\u001b[39m\u001b[39m.\u001b[39mjoin(\u001b[39mf\u001b[39m\u001b[39m'\u001b[39m\u001b[39m{\u001b[39;00mname\u001b[39m}\u001b[39;00m\u001b[39m=\u001b[39m\u001b[39m{\u001b[39;00mvalue\u001b[39m!r}\u001b[39;00m\u001b[39m'\u001b[39m\n\u001b[0;32m    163\u001b[0m                        \u001b[39mfor\u001b[39;00m name, value \u001b[39min\u001b[39;00m deprecated\u001b[39m.\u001b[39mitems())\n\u001b[0;32m    164\u001b[0m     warnings\u001b[39m.\u001b[39mwarn(\u001b[39mf\u001b[39m\u001b[39m'\u001b[39m\u001b[39mThe signature of \u001b[39m\u001b[39m{\u001b[39;00mfunc\u001b[39m.\u001b[39m\u001b[39m__name__\u001b[39m\u001b[39m}\u001b[39;00m\u001b[39m will be reduced\u001b[39m\u001b[39m'\u001b[39m\n\u001b[0;32m    165\u001b[0m                   \u001b[39mf\u001b[39m\u001b[39m'\u001b[39m\u001b[39m to \u001b[39m\u001b[39m{\u001b[39;00msupported_number\u001b[39m}\u001b[39;00m\u001b[39m positional args\u001b[39m\u001b[39m'\u001b[39m\n\u001b[0;32m    166\u001b[0m                   \u001b[39mf\u001b[39m\u001b[39m'\u001b[39m\u001b[39m \u001b[39m\u001b[39m{\u001b[39;00m\u001b[39mlist\u001b[39m(supported)\u001b[39m}\u001b[39;00m\u001b[39m: pass \u001b[39m\u001b[39m{\u001b[39;00mwanted\u001b[39m}\u001b[39;00m\u001b[39m'\u001b[39m\n\u001b[0;32m    167\u001b[0m                   \u001b[39m'\u001b[39m\u001b[39m as keyword arg(s)\u001b[39m\u001b[39m'\u001b[39m,\n\u001b[0;32m    168\u001b[0m                   stacklevel\u001b[39m=\u001b[39mstacklevel,\n\u001b[0;32m    169\u001b[0m                   category\u001b[39m=\u001b[39mcategory)\n\u001b[1;32m--> 171\u001b[0m \u001b[39mreturn\u001b[39;00m func(\u001b[39m*\u001b[39margs, \u001b[39m*\u001b[39m\u001b[39m*\u001b[39mkwargs)\n",
      "File \u001b[1;32mc:\\Users\\nburw\\anaconda3\\lib\\site-packages\\graphviz\\piping.py:121\u001b[0m, in \u001b[0;36mPipe._pipe_legacy\u001b[1;34m(self, format, renderer, formatter, neato_no_op, quiet, engine, encoding)\u001b[0m\n\u001b[0;32m    112\u001b[0m \u001b[39m@_tools\u001b[39m\u001b[39m.\u001b[39mdeprecate_positional_args(supported_number\u001b[39m=\u001b[39m\u001b[39m2\u001b[39m)\n\u001b[0;32m    113\u001b[0m \u001b[39mdef\u001b[39;00m \u001b[39m_pipe_legacy\u001b[39m(\u001b[39mself\u001b[39m,\n\u001b[0;32m    114\u001b[0m                  \u001b[39mformat\u001b[39m: typing\u001b[39m.\u001b[39mOptional[\u001b[39mstr\u001b[39m] \u001b[39m=\u001b[39m \u001b[39mNone\u001b[39;00m,\n\u001b[1;32m   (...)\u001b[0m\n\u001b[0;32m    119\u001b[0m                  engine: typing\u001b[39m.\u001b[39mOptional[\u001b[39mstr\u001b[39m] \u001b[39m=\u001b[39m \u001b[39mNone\u001b[39;00m,\n\u001b[0;32m    120\u001b[0m                  encoding: typing\u001b[39m.\u001b[39mOptional[\u001b[39mstr\u001b[39m] \u001b[39m=\u001b[39m \u001b[39mNone\u001b[39;00m) \u001b[39m-\u001b[39m\u001b[39m>\u001b[39m typing\u001b[39m.\u001b[39mUnion[\u001b[39mbytes\u001b[39m, \u001b[39mstr\u001b[39m]:\n\u001b[1;32m--> 121\u001b[0m     \u001b[39mreturn\u001b[39;00m \u001b[39mself\u001b[39;49m\u001b[39m.\u001b[39;49m_pipe_future(\u001b[39mformat\u001b[39;49m,\n\u001b[0;32m    122\u001b[0m                              renderer\u001b[39m=\u001b[39;49mrenderer,\n\u001b[0;32m    123\u001b[0m                              formatter\u001b[39m=\u001b[39;49mformatter,\n\u001b[0;32m    124\u001b[0m                              neato_no_op\u001b[39m=\u001b[39;49mneato_no_op,\n\u001b[0;32m    125\u001b[0m                              quiet\u001b[39m=\u001b[39;49mquiet,\n\u001b[0;32m    126\u001b[0m                              engine\u001b[39m=\u001b[39;49mengine,\n\u001b[0;32m    127\u001b[0m                              encoding\u001b[39m=\u001b[39;49mencoding)\n",
      "File \u001b[1;32mc:\\Users\\nburw\\anaconda3\\lib\\site-packages\\graphviz\\piping.py:149\u001b[0m, in \u001b[0;36mPipe._pipe_future\u001b[1;34m(self, format, renderer, formatter, neato_no_op, quiet, engine, encoding)\u001b[0m\n\u001b[0;32m    146\u001b[0m \u001b[39mif\u001b[39;00m encoding \u001b[39mis\u001b[39;00m \u001b[39mnot\u001b[39;00m \u001b[39mNone\u001b[39;00m:\n\u001b[0;32m    147\u001b[0m     \u001b[39mif\u001b[39;00m codecs\u001b[39m.\u001b[39mlookup(encoding) \u001b[39mis\u001b[39;00m codecs\u001b[39m.\u001b[39mlookup(\u001b[39mself\u001b[39m\u001b[39m.\u001b[39mencoding):\n\u001b[0;32m    148\u001b[0m         \u001b[39m# common case: both stdin and stdout need the same encoding\u001b[39;00m\n\u001b[1;32m--> 149\u001b[0m         \u001b[39mreturn\u001b[39;00m \u001b[39mself\u001b[39m\u001b[39m.\u001b[39m_pipe_lines_string(\u001b[39m*\u001b[39margs, encoding\u001b[39m=\u001b[39mencoding, \u001b[39m*\u001b[39m\u001b[39m*\u001b[39mkwargs)\n\u001b[0;32m    150\u001b[0m     \u001b[39mtry\u001b[39;00m:\n\u001b[0;32m    151\u001b[0m         raw \u001b[39m=\u001b[39m \u001b[39mself\u001b[39m\u001b[39m.\u001b[39m_pipe_lines(\u001b[39m*\u001b[39margs, input_encoding\u001b[39m=\u001b[39m\u001b[39mself\u001b[39m\u001b[39m.\u001b[39mencoding, \u001b[39m*\u001b[39m\u001b[39m*\u001b[39mkwargs)\n",
      "File \u001b[1;32mc:\\Users\\nburw\\anaconda3\\lib\\site-packages\\graphviz\\backend\\piping.py:212\u001b[0m, in \u001b[0;36mpipe_lines_string\u001b[1;34m(engine, format, input_lines, encoding, renderer, formatter, neato_no_op, quiet)\u001b[0m\n\u001b[0;32m    206\u001b[0m cmd \u001b[39m=\u001b[39m dot_command\u001b[39m.\u001b[39mcommand(engine, \u001b[39mformat\u001b[39m,\n\u001b[0;32m    207\u001b[0m                           renderer\u001b[39m=\u001b[39mrenderer,\n\u001b[0;32m    208\u001b[0m                           formatter\u001b[39m=\u001b[39mformatter,\n\u001b[0;32m    209\u001b[0m                           neato_no_op\u001b[39m=\u001b[39mneato_no_op)\n\u001b[0;32m    210\u001b[0m kwargs \u001b[39m=\u001b[39m {\u001b[39m'\u001b[39m\u001b[39minput_lines\u001b[39m\u001b[39m'\u001b[39m: input_lines, \u001b[39m'\u001b[39m\u001b[39mencoding\u001b[39m\u001b[39m'\u001b[39m: encoding}\n\u001b[1;32m--> 212\u001b[0m proc \u001b[39m=\u001b[39m execute\u001b[39m.\u001b[39mrun_check(cmd, capture_output\u001b[39m=\u001b[39m\u001b[39mTrue\u001b[39;00m, quiet\u001b[39m=\u001b[39mquiet, \u001b[39m*\u001b[39m\u001b[39m*\u001b[39mkwargs)\n\u001b[0;32m    213\u001b[0m \u001b[39mreturn\u001b[39;00m proc\u001b[39m.\u001b[39mstdout\n",
      "File \u001b[1;32mc:\\Users\\nburw\\anaconda3\\lib\\site-packages\\graphviz\\backend\\execute.py:84\u001b[0m, in \u001b[0;36mrun_check\u001b[1;34m(cmd, input_lines, encoding, quiet, **kwargs)\u001b[0m\n\u001b[0;32m     82\u001b[0m \u001b[39mexcept\u001b[39;00m \u001b[39mOSError\u001b[39;00m \u001b[39mas\u001b[39;00m e:\n\u001b[0;32m     83\u001b[0m     \u001b[39mif\u001b[39;00m e\u001b[39m.\u001b[39merrno \u001b[39m==\u001b[39m errno\u001b[39m.\u001b[39mENOENT:\n\u001b[1;32m---> 84\u001b[0m         \u001b[39mraise\u001b[39;00m ExecutableNotFound(cmd) \u001b[39mfrom\u001b[39;00m \u001b[39me\u001b[39;00m\n\u001b[0;32m     85\u001b[0m     \u001b[39mraise\u001b[39;00m\n\u001b[0;32m     87\u001b[0m \u001b[39mif\u001b[39;00m \u001b[39mnot\u001b[39;00m quiet \u001b[39mand\u001b[39;00m proc\u001b[39m.\u001b[39mstderr:\n",
      "\u001b[1;31mExecutableNotFound\u001b[0m: failed to execute WindowsPath('dot'), make sure the Graphviz executables are on your systems' PATH"
     ]
    },
    {
     "data": {
      "text/plain": [
       "<graphviz.graphs.Graph at 0x28e884e8a00>"
      ]
     },
     "execution_count": 57,
     "metadata": {},
     "output_type": "execute_result"
    }
   ],
   "source": [
    "import sys\n",
    "from graphviz import Graph\n",
    "\n",
    "## https://www.graphviz.org/\n",
    "## https://graphviz.readthedocs.io/en/stable/index.html\n",
    "\n",
    "dot = Graph('bb1')\n",
    "\n",
    "dot.node('S','S:\\nv=11, x=(2, 1.8)',shape=\"square\")\n",
    "\n",
    "dot.node('S0','*pruned*\\n\\nS_0:\\nv_0 = 2, x = (2,0)',shape=\"square\")\n",
    "dot.node('S1','*pruned*\\n\\nS_1:\\nv_1 = 7, x = (2,1) ',shape=\"square\")\n",
    "dot.node('S2','\\n\\nS_2\\nv_2 = 10, x=(0,2)',shape=\"square\")\n",
    "\n",
    "\n",
    "dot.edge('S','S0','x2=0')\n",
    "dot.edge('S','S1','x2=1')\n",
    "dot.edge('S','S2','x2=2')\n",
    "\n"
   ]
  },
  {
   "cell_type": "markdown",
   "metadata": {},
   "source": [
    "image.png"
   ]
  },
  {
   "cell_type": "code",
   "execution_count": null,
   "metadata": {},
   "outputs": [],
   "source": []
  }
 ],
 "metadata": {
  "kernelspec": {
   "display_name": "Python 3.9.12 ('base')",
   "language": "python",
   "name": "python3"
  },
  "language_info": {
   "codemirror_mode": {
    "name": "ipython",
    "version": 3
   },
   "file_extension": ".py",
   "mimetype": "text/x-python",
   "name": "python",
   "nbconvert_exporter": "python",
   "pygments_lexer": "ipython3",
   "version": "3.9.12"
  },
  "orig_nbformat": 4,
  "vscode": {
   "interpreter": {
    "hash": "b66f734ac159939b27868506697e977ae65be9392b35aa099cd44adcf5e6243b"
   }
  }
 },
 "nbformat": 4,
 "nbformat_minor": 2
}
