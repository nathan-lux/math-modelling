{
 "cells": [
  {
   "cell_type": "markdown",
   "metadata": {},
   "source": [
    "### Problem 1"
   ]
  },
  {
   "cell_type": "markdown",
   "metadata": {},
   "source": [
    "We are charged with the task of finding the root of the following function: <br>\n",
    "$$f(x) = c^x - xc^x$$\n",
    "\n",
    "Later we will be testing various methods, but for now, we can use the\n",
    "scipy.optimize library to find the root using the bisection method."
   ]
  },
  {
   "cell_type": "code",
   "execution_count": 2,
   "metadata": {},
   "outputs": [
    {
     "name": "stdout",
     "output_type": "stream",
     "text": [
      "maximal value of f(x) can be found at: 1.0\n"
     ]
    }
   ],
   "source": [
    "from scipy.optimize import bisect\n",
    "import numpy as np\n",
    "\n",
    "def g(y):\n",
    "    return np.e**y - y * np.e**y\n",
    "\n",
    "def gprime(y):\n",
    "    return -1 * np.e**y * y\n",
    "\n",
    "print(\"maximal value of f(x) can be found at:\", bisect(g, -1, 1))"
   ]
  },
  {
   "cell_type": "code",
   "execution_count": 3,
   "metadata": {},
   "outputs": [
    {
     "data": {
      "text/plain": [
       "[<matplotlib.lines.Line2D at 0x233e8841ac0>]"
      ]
     },
     "execution_count": 3,
     "metadata": {},
     "output_type": "execute_result"
    },
    {
     "data": {
      "image/png": "[encoded data removed]",
      "text/plain": [
       "<Figure size 432x288 with 1 Axes>"
      ]
     },
     "metadata": {
      "needs_background": "light"
     },
     "output_type": "display_data"
    }
   ],
   "source": [
    "%matplotlib notebook\n",
    "%matplotlib inline\n",
    "import matplotlib.pyplot as plt\n",
    "import numpy as np\n",
    "\n",
    "t = np.arange(-8, 5, .1)\n",
    "\n",
    "fig, ax = plt.subplots()\n",
    "\n",
    "ax.set_ylim(ymin=-4.0, ymax=4)\n",
    "\n",
    "ax.axhline(y=0, color=\"black\", linewidth=.5)\n",
    "ax.axvline(x=0, color=\"black\", linewidth=.5)\n",
    "\n",
    "plt.xlabel(\"x\")\n",
    "plt.ylabel(\"y\")\n",
    "plt.title(\"f(x) = e^x - x * e^x\")\n",
    "\n",
    "ax.plot(t, g(t))\n"
   ]
  },
  {
   "cell_type": "markdown",
   "metadata": {},
   "source": [
    "Nice, This can be confirmed by looking at a plot of the function, something I\n",
    "did on desmos instead of showing here :)\n",
    "\n",
    "Now we want to check and see how finding these points goes using the other\n",
    "methods in the scipy library. We will use arrays of points, and run them through\n",
    "the different root solving methods to determine which are better, faster, or\n",
    "generally nice for this particular choice of function.\n",
    "\n",
    "~~perhaps this code is exposing me as a primarily C programmer~~"
   ]
  },
  {
   "cell_type": "code",
   "execution_count": 32,
   "metadata": {},
   "outputs": [
    {
     "name": "stdout",
     "output_type": "stream",
     "text": [
      "results for points in bis_p after bisection: \n",
      "(0, 2)  \t-> 1.0 @iter = 1\n",
      "(-5, 5)  \t-> 1.0000000000002274 @iter = 43\n",
      "(-10, 2)  \t-> 0.9999999999995453 @iter = 43\n",
      "(-1, 2)  \t-> 0.9999999999995453 @iter = 41\n",
      "(0, 1)  \t-> 1.0 @iter = 41\n",
      "\n",
      "reults for points in sec_p after secant method:\n",
      "(0, 2)  \t-> 1.0 @iter = 13\n",
      "(0, 10)  \t-> e\n",
      "(-1, 2)  \t-> e\n",
      "(-5, 5)  \t-> e\n",
      "(-10, 2)  \t-> e\n",
      "\n",
      "results for points in new_p after newtons method:\n",
      "0.5  \t-> 1.0 @iter = 7\n",
      "2  \t-> 1.0 @iter = 7\n",
      "10  \t-> 1.0 @iter = 17\n",
      "-0.5  \t-> e\n",
      "-5  \t-> e\n",
      "\n"
     ]
    }
   ],
   "source": [
    "from scipy.optimize import newton\n",
    "\n",
    "## array storing values for each method\n",
    "new_p = [.5, 2, 10, -.5, -5]\n",
    "sec_p = [(0,2), (0,10), (-1,2), (-5,5), (-10,2)]\n",
    "bis_p = [(0,2), (-5,5), (-10,2), (-1,2), (0,1)]\n",
    "\n",
    "## empty arrays for holding solved roots\n",
    "bis_r = []\n",
    "new_r = []\n",
    "sec_r = []\n",
    "\n",
    "## handy print function for comparing points to values\n",
    "def p_arrays(point, val):\n",
    "    for i in range(len(point)):\n",
    "        if(isinstance(val[i][1], str)):\n",
    "            print(point[i], \" \" + \"\\t->\", val[i][0])\n",
    "        else:\n",
    "            print(point[i], \" \" + \"\\t->\", val[i][0], \"@iter =\", val[i][1].iterations)\n",
    "    print()\n",
    "\n",
    "## bisection method -- there were no errors here, no need to try except\n",
    "print(\"results for points in bis_p after bisection: \")\n",
    "for i in range(len(bis_p)):\n",
    "    bis_r.append(bisect(g, bis_p[i][0], bis_p[i][1], full_output=True))\n",
    "p_arrays(bis_p, bis_r)\n",
    "\n",
    "\n",
    "## secant method -- errors logged, unknown source\n",
    "print(\"reults for points in sec_p after secant method:\")\n",
    "for i in range(len(sec_p)):\n",
    "    try:\n",
    "        sec_r.append(newton(g, sec_p[i][0], x1=sec_p[i][1], maxiter=100, full_output=True))\n",
    "    except:\n",
    "        sec_r.append(\"err\")\n",
    "p_arrays(sec_p, sec_r)\n",
    "\n",
    "## newtons method, errors accounted for\n",
    "print(\"results for points in new_p after newtons method:\")\n",
    "for i in range(len(new_p)):\n",
    "    try:\n",
    "        new_r.append(newton(g, new_p[i], gprime, maxiter=100, full_output=True))\n",
    "    except:\n",
    "        new_r.append(\"err\")\n",
    "p_arrays(new_p, new_r)\n",
    "\n",
    "\n",
    "\n"
   ]
  },
  {
   "cell_type": "markdown",
   "metadata": {},
   "source": [
    "We can see the inital paramters have a large impact on finding the roots for\n",
    "each of the three methods. For instance, the secant method seems to be\n",
    "particularly finicky when the range is too large. This likely has to do with the\n",
    "range of values surrounding the peak, without actually being enough on it for\n",
    "the points to find it."
   ]
  },
  {
   "cell_type": "markdown",
   "metadata": {},
   "source": [
    "### Problem 2"
   ]
  },
  {
   "cell_type": "markdown",
   "metadata": {},
   "source": [
    "This is a linear programming problem, where we wish to find the maximal value of\n",
    "the given system by two means. One, by sketching the feasible space of the\n",
    "system,and testing it's intersection points for maximal values, and the other,\n",
    "by utilizing the `scipy.linprog` library\n",
    "\n",
    "The first method, will require us to use matplotlib to sketch the feasible\n",
    "space, as is shown below"
   ]
  },
  {
   "cell_type": "code",
   "execution_count": 17,
   "metadata": {},
   "outputs": [
    {
     "data": {
      "image/png": "[encoded data removed]",
      "text/plain": [
       "<Figure size 720x720 with 1 Axes>"
      ]
     },
     "metadata": {
      "needs_background": "light"
     },
     "output_type": "display_data"
    }
   ],
   "source": [
    "%matplotlib notebook\n",
    "%matplotlib inline\n",
    "import matplotlib.pyplot as plt\n",
    "\n",
    "\n",
    "plt.rcParams.update({'font.size': 19})\n",
    "\n",
    "d = np.linspace(-2,30,100)\n",
    "x,y = np.meshgrid(d,d)\n",
    "\n",
    "pl = plt.figure(figsize=(10,10))\n",
    "ax = plt.axes()\n",
    "\n",
    "ax.imshow(((y <= 9) & (y >= 1) & (2*x + y <= 25) & (-2*x - y <= -9) & (-2*x + y <= 1) & (2*x - y <= 15)).astype(int),\n",
    "          extent    = (x.min(),x.max(),y.min(),y.max()),\n",
    "          origin    = \"lower\", \n",
    "          cmap      = \"Reds\", \n",
    "          alpha     =  0.2,\n",
    "          aspect    = \"auto\")\n",
    "\n",
    "# plot the lines defining the constraints\n",
    "x = np.arange(-2, 30, .1)\n",
    "ax.plot(x, 25 - x*2, label = \"2x + y = 25\")\n",
    "ax.plot(x, 9 - 2*x,  label = \"-2x - y = -9\")\n",
    "ax.plot(x, 1 + 2*x,   label = \"-2x + y = 1\")\n",
    "ax.plot(x, 2*x - 15,  label = \"2x - y = 15\")\n",
    "\n",
    "ax.axhline(y=9, label = \"y = 1\")\n",
    "ax.axhline(y=1, label = \"y = 9\")\n",
    "\n",
    "ax.axhline(y=0, color = \"black\")\n",
    "ax.axvline(x=0, color = \"black\")\n",
    "ax.set_ylim(ymin=-5.0, ymax=25.5)\n",
    "\n",
    "ax.legend()\n",
    "ax.set_title(\"Feasible Region\")\n",
    "ax.set_xlabel(\"x\")\n",
    "ax.set_ylabel(\"y\")\n",
    "\n",
    "def ann_pt(x,y):\n",
    "    s = f\"({x},{y})\"\n",
    "    ax.annotate(s,xy=(x,y),xytext=(5,5),textcoords='offset points')\n",
    "\n",
    "ax.scatter(4, 9,s=100,color=\"blue\")\n",
    "ax.scatter(8, 9,s=100,color=\"blue\")\n",
    "ax.scatter(8, 1,s=100,color=\"blue\")\n",
    "ax.scatter(10, 5,s=100,color=\"blue\")\n",
    "ax.scatter(4, 1,s=100,color=\"blue\")\n",
    "ax.scatter(2, 5,s=100,color=\"blue\")\n",
    "\n",
    "ann_pt(4, 9)\n",
    "ann_pt(8, 9)\n",
    "ann_pt(8, 1)\n",
    "ann_pt(10, 5)\n",
    "ann_pt(4, 1)\n",
    "ann_pt(2,5)\n",
    "\n",
    "\n"
   ]
  },
  {
   "cell_type": "markdown",
   "metadata": {},
   "source": [
    "Now that we have this plot, and the intersection points (I just manually\n",
    "calculated the intersection points to avoid writing a function for such a basic\n",
    "task), we can find the maximal point by writing a slightly inefficient chunk of\n",
    "code here..."
   ]
  },
  {
   "cell_type": "code",
   "execution_count": 24,
   "metadata": {},
   "outputs": [
    {
     "name": "stdout",
     "output_type": "stream",
     "text": [
      "point: (4, 9) \tval: 22\n",
      "point: (2, 5) \tval: 12\n",
      "point: (8, 9) \tval: 26\n",
      "point: (10, 5) \tval: 20\n",
      "point: (8, 1) \tval: 10\n",
      "point: (4, 1) \tval: 6\n",
      "\n",
      "maximal value is: 26\n",
      "maximal value found at: (8, 9)\n"
     ]
    }
   ],
   "source": [
    "m = (0,0)\n",
    "m_points = [(4, 9), (2,5), (8,9), (10,5), (8,1), (4,1)]\n",
    "m_values = []\n",
    "\n",
    "def f(x,y):\n",
    "    return x + 2*y\n",
    "\n",
    "for i in range(len(m_points)):\n",
    "    print(\"point:\", m_points[i], \"\\tval:\", f(m_points[i][0], m_points[i][1]))\n",
    "    m_values.append(f(m_points[i][0], m_points[i][1]))\n",
    "\n",
    "print()\n",
    "\n",
    "m = m_points[m_values.index(max(m_values))]\n",
    "print(\"maximal value is:\", max(m_values))\n",
    "print(\"maximal value found at:\", m)"
   ]
  },
  {
   "cell_type": "code",
   "execution_count": null,
   "metadata": {},
   "outputs": [],
   "source": []
  },
  {
   "cell_type": "markdown",
   "metadata": {},
   "source": [
    "We can verify this value by using the Scipy optimize library"
   ]
  },
  {
   "cell_type": "code",
   "execution_count": 7,
   "metadata": {},
   "outputs": [
    {
     "name": "stdout",
     "output_type": "stream",
     "text": [
      "     con: array([], dtype=float64)\n",
      "     fun: -25.999999999969482\n",
      " message: 'Optimization terminated successfully.'\n",
      "     nit: 5\n",
      "   slack: array([9.36140054e-12, 8.00000000e+00, 3.29478667e-11, 1.60000000e+01,\n",
      "       8.00000000e+00, 8.00000000e+00])\n",
      "  status: 0\n",
      " success: True\n",
      "       x: array([8., 9.])\n"
     ]
    }
   ],
   "source": [
    "from scipy.optimize import linprog\n",
    "\n",
    "A = np.array([[ 0,  1],\n",
    "              [ 0, -1],\n",
    "              [ 2,  1],\n",
    "              [-2, -1],\n",
    "              [-2,  1],\n",
    "              [ 2, -1]])\n",
    "b = np.array([9, -1, 25, -9, 1, 15])\n",
    "\n",
    "c=np.array([1, 2])\n",
    "\n",
    "# note the -1 in front of the c as linprog can only minimize (the same as\n",
    "# maximizing the negative)\n",
    "res = linprog(-1*c, A_ub=A, b_ub=b)\n",
    "print(res)"
   ]
  },
  {
   "cell_type": "markdown",
   "metadata": {},
   "source": [
    "We can see that the two methods, are in complete agreement up to computational accuracy"
   ]
  },
  {
   "cell_type": "markdown",
   "metadata": {},
   "source": [
    "### Problem 3"
   ]
  },
  {
   "cell_type": "markdown",
   "metadata": {},
   "source": [
    "We are given the following problem: <br>\n",
    "\n",
    "> A bakery wants to sell forty five Valentine’s Day gift bags. They have decided to offer two\n",
    "types of bags: Bags of type A will contain four of cupcakes and two cookies, and bags of\n",
    "type B will contain two cupcakes and five cookies. Baskets of type A will be sold for $12\n",
    "and baskets of type B will be sold for $16. The bakery has 90 cookies and 115 cupcakes in\n",
    "total. <br>\n",
    "\n",
    "We would like to optimize the profits of this baker. <br>\n",
    "\n",
    "We can start by finding our objective function, which is clearly as follows:\n",
    "\n",
    "$$P(a,b)=12a + 16b$$\n",
    "\n",
    "We can then construct a table to better understand our constraints... <br>\n",
    "\n",
    "|           | cupcakes (c)  | cookies (k)   |\n",
    "|:----------|:-------------:|--------------:|\n",
    "| Basket A  |       4       |       2       |\n",
    "| Basket B  |       2       |       5       |\n",
    "| Total     |       115     |       90      |\n",
    "\n",
    "So we can immediately see what our limitations here are. They go as follows:\n",
    "\n",
    "$$ 4a + 2b \\leq 115 $$\n",
    "$$ 2a + 5b \\leq 90 $$\n",
    "$$ c \\geq 0, \\;\\; k \\geq 0$$\n",
    "\n",
    "We could solve this problem by plotting the feasible region, or we could just\n",
    "use scipy again, which I will be doing because frankly using matplotlib for this\n",
    "probelem feels like a hammer doing a feathers job."
   ]
  },
  {
   "cell_type": "code",
   "execution_count": 8,
   "metadata": {},
   "outputs": [
    {
     "name": "stdout",
     "output_type": "stream",
     "text": [
      "     con: array([], dtype=float64)\n",
      "     fun: -426.2499990846053\n",
      " message: 'Optimization terminated successfully.'\n",
      "     nit: 4\n",
      "   slack: array([2.50564540e-07, 1.90762705e-07])\n",
      "  status: 0\n",
      " success: True\n",
      "       x: array([24.68749995,  8.12499998])\n"
     ]
    }
   ],
   "source": [
    "M = np.array([[4, 2],\n",
    "              [2, 5]])\n",
    "u = np.array([[115, 90]])\n",
    "p = np.array([[12, 16]])\n",
    "\n",
    "sol = linprog(-1*p, A_ub = M, b_ub = u)\n",
    "print(sol)"
   ]
  },
  {
   "cell_type": "markdown",
   "metadata": {},
   "source": [
    "Thus, rounding down (as selling fractional cookies might not be the best plan)\n",
    "we get the optimal value of 24 of type A baskets, and 8 of type B baskets\n",
    "totally a profit of 416 dollars"
   ]
  }
 ],
 "metadata": {
  "kernelspec": {
   "display_name": "Python 3.9.12 ('base')",
   "language": "python",
   "name": "python3"
  },
  "language_info": {
   "codemirror_mode": {
    "name": "ipython",
    "version": 3
   },
   "file_extension": ".py",
   "mimetype": "text/x-python",
   "name": "python",
   "nbconvert_exporter": "python",
   "pygments_lexer": "ipython3",
   "version": "3.9.12"
  },
  "orig_nbformat": 4,
  "vscode": {
   "interpreter": {
    "hash": "b66f734ac159939b27868506697e977ae65be9392b35aa099cd44adcf5e6243b"
   }
  }
 },
 "nbformat": 4,
 "nbformat_minor": 2
}
