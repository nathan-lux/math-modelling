{
 "cells": [
  {
   "cell_type": "markdown",
   "metadata": {},
   "source": [
    "# Homework 8\n",
    "### Polysplines - Spline interpolation"
   ]
  },
  {
   "cell_type": "markdown",
   "metadata": {},
   "source": [
    "We are given a system with the data points <br>\n",
    "$$\n",
    "f(0) = 0,\\; f(1) = 2,\\; f(2) = 1\n",
    "$$\n",
    "And we are asked to use spline interpolation with both natural and clamp\n",
    "boundary conditions. We start with natural"
   ]
  },
  {
   "cell_type": "code",
   "execution_count": 20,
   "metadata": {},
   "outputs": [],
   "source": [
    "import numpy as np\n",
    "from matplotlib import pyplot as plt"
   ]
  },
  {
   "cell_type": "code",
   "execution_count": 59,
   "metadata": {},
   "outputs": [],
   "source": [
    "A = np.array([[0, 0, 0, 1, 0, 0, 0, 0],  # f1(0) = 0\n",
    "              [1, 1, 1, 1, 0, 0, 0, 0],  # f1(1) = 2\n",
    "              [0, 0, 0, 0, 1, 1, 1, 1],  # f2(1) = 2\n",
    "              [0, 0, 0, 0, 8, 4, 2, 1],  # f2(2) = 1\n",
    "              [3, 2, 1, 0,-3,-2,-1, 0],  # continuity of fn'\n",
    "              [6, 2, 0, 0,-6,-2, 0, 0],  # continuity of fn''\n",
    "              [0, 2, 0, 0, 0, 0, 0, 0],  # natural for f1\n",
    "              [0, 0, 0, 0,12, 2, 0, 0]]) # natural for f2\n",
    "\n",
    "b = np.array([0, 2, 2, 1, 0, 0, 0, 0])"
   ]
  },
  {
   "cell_type": "code",
   "execution_count": 60,
   "metadata": {},
   "outputs": [
    {
     "name": "stdout",
     "output_type": "stream",
     "text": [
      "[-0.75  0.    2.75  0.    0.75 -4.5   7.25 -1.5 ]\n"
     ]
    }
   ],
   "source": [
    "c = np.linalg.solve(A, b)\n",
    "print(c)"
   ]
  },
  {
   "cell_type": "code",
   "execution_count": 61,
   "metadata": {},
   "outputs": [
    {
     "name": "stdout",
     "output_type": "stream",
     "text": [
      "-0.75\n",
      " 0.0\n",
      " 2.75\n",
      " 0.0\n",
      " 0.75\n",
      "-4.5\n",
      " 7.25\n",
      "-1.5\n",
      "[0.   0.   2.75 0.  ] [ 0.75 -4.5   7.25 -1.5 ]\n"
     ]
    }
   ],
   "source": [
    "for i in range(len(c)):\n",
    "    if c[i] >= 0:\n",
    "        print(\"\", round(c[i], 4))\n",
    "    else:\n",
    "        print(round(c[i], 4))\n",
    "\n",
    "coef2 = c[4:]\n",
    "coef1 = c[:4]\n",
    "coef1[0] = 0\n",
    "print(coef1, coef2)"
   ]
  },
  {
   "cell_type": "code",
   "execution_count": 55,
   "metadata": {},
   "outputs": [
    {
     "data": {
      "text/plain": [
       "[<matplotlib.lines.Line2D at 0x17d8eb35e80>]"
      ]
     },
     "execution_count": 55,
     "metadata": {},
     "output_type": "execute_result"
    },
    {
     "data": {
      "image/png": "[encoded data removed]",
      "text/plain": [
       "<Figure size 432x288 with 1 Axes>"
      ]
     },
     "metadata": {
      "needs_background": "light"
     },
     "output_type": "display_data"
    }
   ],
   "source": [
    "x = np.linspace(0, 2, 10000)\n",
    "plt.plot(x, x**3 * coef1[0] + x**2 * coef1[1] + x * coef1[2] + coef1[3])\n",
    "plt.plot(x, x**3 * coef2[0] + x**2 * coef2[1] + x * coef2[2] + coef2[3])\n",
    "\n",
    "plt.plot(0, 0, marker=\"o\", color=\"red\")\n",
    "plt.plot(1, 2, marker=\"o\", color=\"red\")\n",
    "plt.plot(2, 1, marker=\"o\", color=\"red\")\n",
    "\n"
   ]
  },
  {
   "cell_type": "markdown",
   "metadata": {},
   "source": [
    "We can do the clamped boundary now"
   ]
  },
  {
   "cell_type": "code",
   "execution_count": 56,
   "metadata": {},
   "outputs": [],
   "source": [
    "A = np.array([[0, 0, 0, 1, 0, 0, 0, 0],  # f1(0) = 0\n",
    "              [1, 1, 1, 1, 0, 0, 0, 0],  # f1(1) = 2\n",
    "              [0, 0, 0, 0, 1, 1, 1, 1],  # f2(1) = 2\n",
    "              [0, 0, 0, 0, 8, 4, 2, 1],  # f2(2) = 1\n",
    "              [3, 2, 1, 0,-3,-2,-1, 0],  # continuity of fn'\n",
    "              [6, 2, 0, 0,-6,-2, 0, 0],  # continuity of fn''\n",
    "              [0, 0, 1, 0, 0, 0, 0, 0],  # clamped for f1\n",
    "              [0, 0, 0, 0,12, 4, 1, 0]]) # clamped for f2\n",
    "\n",
    "b = np.array([0, 2, 2, 1, 0, 0, 0, 0])"
   ]
  },
  {
   "cell_type": "code",
   "execution_count": 57,
   "metadata": {},
   "outputs": [
    {
     "name": "stdout",
     "output_type": "stream",
     "text": [
      "[-3.25000000e+00  5.25000000e+00  0.00000000e+00 -1.33226763e-15\n",
      "  2.75000000e+00 -1.27500000e+01  1.80000000e+01 -6.00000000e+00]\n"
     ]
    }
   ],
   "source": [
    "c = np.linalg.solve(A, b)\n",
    "print(c)"
   ]
  },
  {
   "cell_type": "code",
   "execution_count": 58,
   "metadata": {},
   "outputs": [
    {
     "name": "stdout",
     "output_type": "stream",
     "text": [
      "-3.25\n",
      " 5.25\n",
      " 0.0\n",
      "-0.0\n",
      " 2.75\n",
      "-12.75\n",
      " 18.0\n",
      "-6.0\n"
     ]
    }
   ],
   "source": [
    "for i in range(len(c)):\n",
    "    if c[i] >= 0:\n",
    "        print(\"\", round(c[i], 4))\n",
    "    else:\n",
    "        print(round(c[i], 4))"
   ]
  },
  {
   "cell_type": "code",
   "execution_count": null,
   "metadata": {},
   "outputs": [],
   "source": []
  }
 ],
 "metadata": {
  "kernelspec": {
   "display_name": "Python 3.9.12 ('base')",
   "language": "python",
   "name": "python3"
  },
  "language_info": {
   "codemirror_mode": {
    "name": "ipython",
    "version": 3
   },
   "file_extension": ".py",
   "mimetype": "text/x-python",
   "name": "python",
   "nbconvert_exporter": "python",
   "pygments_lexer": "ipython3",
   "version": "3.9.12"
  },
  "orig_nbformat": 4,
  "vscode": {
   "interpreter": {
    "hash": "b66f734ac159939b27868506697e977ae65be9392b35aa099cd44adcf5e6243b"
   }
  }
 },
 "nbformat": 4,
 "nbformat_minor": 2
}
